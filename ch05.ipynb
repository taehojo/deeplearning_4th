{
 "cells": [
  {
   "cell_type": "markdown",
   "metadata": {},
   "source": [
    "# 5장. 선형 회귀 모델: 먼저 긋고 수정하기"
   ]
  },
  {
   "cell_type": "markdown",
   "metadata": {},
   "source": [
    "[<img src=\"https://raw.githubusercontent.com/taehojo/taehojo.github.io/master/assets/images/linktocolab.png\" align=\"left\"/> ](https://colab.research.google.com/github/taehojo/deeplearning_4th/blob/master/colab/ch05-colab.ipynb)"
   ]
  },
  {
   "cell_type": "markdown",
   "metadata": {},
   "source": [
    "## 2. 파이썬 코딩으로 확인하는 선형 회귀"
   ]
  },
  {
   "cell_type": "markdown",
   "metadata": {},
   "source": [
    "### 1.환경 준비"
   ]
  },
  {
   "cell_type": "code",
   "execution_count": 27,
   "metadata": {},
   "outputs": [
    {
     "name": "stdout",
     "output_type": "stream",
     "text": [
      "Requirement already satisfied: matplotlib in c:\\users\\taehj\\anaconda3\\envs\\deep_learning\\lib\\site-packages (3.9.4)\n",
      "Requirement already satisfied: contourpy>=1.0.1 in c:\\users\\taehj\\anaconda3\\envs\\deep_learning\\lib\\site-packages (from matplotlib) (1.3.0)\n",
      "Requirement already satisfied: cycler>=0.10 in c:\\users\\taehj\\anaconda3\\envs\\deep_learning\\lib\\site-packages (from matplotlib) (0.12.1)\n",
      "Requirement already satisfied: fonttools>=4.22.0 in c:\\users\\taehj\\anaconda3\\envs\\deep_learning\\lib\\site-packages (from matplotlib) (4.56.0)\n",
      "Requirement already satisfied: kiwisolver>=1.3.1 in c:\\users\\taehj\\anaconda3\\envs\\deep_learning\\lib\\site-packages (from matplotlib) (1.4.7)\n",
      "Requirement already satisfied: numpy>=1.23 in c:\\users\\taehj\\anaconda3\\envs\\deep_learning\\lib\\site-packages (from matplotlib) (1.26.4)\n",
      "Requirement already satisfied: packaging>=20.0 in c:\\users\\taehj\\anaconda3\\envs\\deep_learning\\lib\\site-packages (from matplotlib) (24.2)\n",
      "Requirement already satisfied: pillow>=8 in c:\\users\\taehj\\anaconda3\\envs\\deep_learning\\lib\\site-packages (from matplotlib) (11.1.0)\n",
      "Requirement already satisfied: pyparsing>=2.3.1 in c:\\users\\taehj\\anaconda3\\envs\\deep_learning\\lib\\site-packages (from matplotlib) (3.2.1)\n",
      "Requirement already satisfied: python-dateutil>=2.7 in c:\\users\\taehj\\anaconda3\\envs\\deep_learning\\lib\\site-packages (from matplotlib) (2.9.0.post0)\n",
      "Requirement already satisfied: importlib-resources>=3.2.0 in c:\\users\\taehj\\anaconda3\\envs\\deep_learning\\lib\\site-packages (from matplotlib) (6.5.2)\n",
      "Requirement already satisfied: zipp>=3.1.0 in c:\\users\\taehj\\anaconda3\\envs\\deep_learning\\lib\\site-packages (from importlib-resources>=3.2.0->matplotlib) (3.21.0)\n",
      "Requirement already satisfied: six>=1.5 in c:\\users\\taehj\\anaconda3\\envs\\deep_learning\\lib\\site-packages (from python-dateutil>=2.7->matplotlib) (1.16.0)\n"
     ]
    }
   ],
   "source": [
    "#matplotlib 라이브러리를 설치합니다.\n",
    "!pip install matplotlib "
   ]
  },
  {
   "cell_type": "code",
   "execution_count": 28,
   "metadata": {},
   "outputs": [],
   "source": [
    "import numpy as np\n",
    "import matplotlib.pyplot as plt"
   ]
  },
  {
   "cell_type": "markdown",
   "metadata": {},
   "source": [
    "### 2. 데이터 준비"
   ]
  },
  {
   "cell_type": "code",
   "execution_count": 29,
   "metadata": {},
   "outputs": [],
   "source": [
    "#공부 시간 X와 성적 Y의 넘파이 배열을 만듭니다.\n",
    "x = np.array([2, 4, 6, 8])\n",
    "y = np.array([81, 93, 91, 97]) "
   ]
  },
  {
   "cell_type": "markdown",
   "metadata": {},
   "source": [
    "### 3. 데이터 분포 확인"
   ]
  },
  {
   "cell_type": "code",
   "execution_count": 30,
   "metadata": {},
   "outputs": [
    {
     "data": {
      "image/png": "[encoded data removed]",
      "text/plain": [
       "<Figure size 640x480 with 1 Axes>"
      ]
     },
     "metadata": {},
     "output_type": "display_data"
    }
   ],
   "source": [
    "# 데이터의 분포를 그래프로 나타냅니다.\n",
    "plt.scatter(x, y)\n",
    "plt.show()"
   ]
  },
  {
   "cell_type": "markdown",
   "metadata": {},
   "source": [
    "### 4. 실행을 위한 변수 설정"
   ]
  },
  {
   "cell_type": "code",
   "execution_count": 31,
   "metadata": {},
   "outputs": [],
   "source": [
    "# 기울기 a와 절편 b의 값을 초기화합니다.\n",
    "a = 0\n",
    "b = 0\n",
    "\n",
    "#학습률을 정합니다.\n",
    "lr = 0.03\n",
    "\n",
    "#몇 번 반복될지를 설정합니다. \n",
    "epochs = 2001 "
   ]
  },
  {
   "cell_type": "markdown",
   "metadata": {},
   "source": [
    "### 5. 경사 하강법"
   ]
  },
  {
   "cell_type": "code",
   "execution_count": 32,
   "metadata": {},
   "outputs": [
    {
     "name": "stdout",
     "output_type": "stream",
     "text": [
      "epoch=0, 기울기=27.8400, 절편=5.4300\n",
      "epoch=100, 기울기=7.0739, 절편=50.5117\n",
      "epoch=200, 기울기=4.0960, 절편=68.2822\n",
      "epoch=300, 기울기=2.9757, 절편=74.9678\n",
      "epoch=400, 기울기=2.5542, 절편=77.4830\n",
      "epoch=500, 기울기=2.3956, 절편=78.4293\n",
      "epoch=600, 기울기=2.3360, 절편=78.7853\n",
      "epoch=700, 기울기=2.3135, 절편=78.9192\n",
      "epoch=800, 기울기=2.3051, 절편=78.9696\n",
      "epoch=900, 기울기=2.3019, 절편=78.9886\n",
      "epoch=1000, 기울기=2.3007, 절편=78.9957\n",
      "epoch=1100, 기울기=2.3003, 절편=78.9984\n",
      "epoch=1200, 기울기=2.3001, 절편=78.9994\n",
      "epoch=1300, 기울기=2.3000, 절편=78.9998\n",
      "epoch=1400, 기울기=2.3000, 절편=78.9999\n",
      "epoch=1500, 기울기=2.3000, 절편=79.0000\n",
      "epoch=1600, 기울기=2.3000, 절편=79.0000\n",
      "epoch=1700, 기울기=2.3000, 절편=79.0000\n",
      "epoch=1800, 기울기=2.3000, 절편=79.0000\n",
      "epoch=1900, 기울기=2.3000, 절편=79.0000\n",
      "epoch=2000, 기울기=2.3000, 절편=79.0000\n"
     ]
    }
   ],
   "source": [
    "# x 값이 총 몇 개인지 셉니다.\n",
    "n=len(x)\n",
    "\n",
    "#경사 하강법을 시작합니다.\n",
    "for i in range(epochs):                  # epoch 수 만큼 반복\n",
    "    \n",
    "    y_pred = a * x + b                   # 예측 값을 구하는 식입니다. \n",
    "    error = y - y_pred                   # 실제 값과 비교한 오차를 error로 놓습니다.\n",
    "    \n",
    "    a_diff = (2/n) * sum(-x * (error))   # 오차 함수를 a로 편미분한 값입니다. \n",
    "    b_diff = (2/n) * sum(-(error))       # 오차 함수를 b로 편미분한 값입니다. \n",
    "    \n",
    "    a = a - lr * a_diff     # 학습률을 곱해 기존의 a 값을 업데이트합니다.\n",
    "    b = b - lr * b_diff     # 학습률을 곱해 기존의 b 값을 업데이트합니다.\n",
    "    \n",
    "    if i % 100 == 0:        # 100번 반복될 때마다 현재의 a 값, b 값을 출력합니다.\n",
    "        print(\"epoch=%.f, 기울기=%.04f, 절편=%.04f\" % (i, a, b))        "
   ]
  },
  {
   "cell_type": "markdown",
   "metadata": {},
   "source": [
    "### 6. 그래프 확인 "
   ]
  },
  {
   "cell_type": "code",
   "execution_count": 33,
   "metadata": {},
   "outputs": [
    {
     "data": {
      "image/png": "[encoded data removed]",
      "text/plain": [
       "<Figure size 640x480 with 1 Axes>"
      ]
     },
     "metadata": {},
     "output_type": "display_data"
    }
   ],
   "source": [
    "#앞서 구한 최종 a값을 기울기, b값을 y절편에 대입하여 그래프를 그립니다.\n",
    "y_pred = a * x + b      \n",
    "\n",
    "#그래프 출력\n",
    "plt.scatter(x, y)\n",
    "plt.plot(x, y_pred,'r')\n",
    "plt.show()"
   ]
  },
  {
   "cell_type": "markdown",
   "metadata": {},
   "source": [
    "## 4. 파이썬 코딩으로 확인하는 다중 선형 회귀"
   ]
  },
  {
   "cell_type": "markdown",
   "metadata": {},
   "source": [
    "### 1.환경 준비"
   ]
  },
  {
   "cell_type": "code",
   "execution_count": 34,
   "metadata": {},
   "outputs": [],
   "source": [
    "import numpy as np\n",
    "import matplotlib.pyplot as plt"
   ]
  },
  {
   "cell_type": "markdown",
   "metadata": {},
   "source": [
    "### 2. 데이터 준비"
   ]
  },
  {
   "cell_type": "code",
   "execution_count": 35,
   "metadata": {},
   "outputs": [],
   "source": [
    "#공부 시간 x1과 과외 시간 x2, 그성적 y의 넘파이 배열을 만듭니다. \n",
    "x1 = np.array([2, 4, 6, 8])\n",
    "x2 = np.array([0, 4, 2, 3])\n",
    "y = np.array([81, 93, 91, 97]) "
   ]
  },
  {
   "cell_type": "markdown",
   "metadata": {},
   "source": [
    "### 3. 데이터 분포 확인"
   ]
  },
  {
   "cell_type": "code",
   "execution_count": 36,
   "metadata": {},
   "outputs": [
    {
     "data": {
      "image/png": "[encoded data removed]",
      "text/plain": [
       "<Figure size 640x480 with 1 Axes>"
      ]
     },
     "metadata": {},
     "output_type": "display_data"
    }
   ],
   "source": [
    "# 데이터의 분포를 그래프로 나타냅니다.\n",
    "fig = plt.figure()\n",
    "ax = fig.add_subplot(111, projection='3d')\n",
    "ax.scatter3D(x1, x2, y)\n",
    "plt.show()"
   ]
  },
  {
   "cell_type": "markdown",
   "metadata": {},
   "source": [
    "### 4. 실행을 위한 변수 설정"
   ]
  },
  {
   "cell_type": "code",
   "execution_count": 37,
   "metadata": {},
   "outputs": [],
   "source": [
    "# 기울기 a와 절편 b의 값을 초기화합니다.\n",
    "a1 = 0\n",
    "a2 = 0\n",
    "b = 0\n",
    "\n",
    "#학습률을 정합니다.\n",
    "lr = 0.01 \n",
    "\n",
    "#몇 번 반복될지를 설정합니다.\n",
    "epochs = 2001 "
   ]
  },
  {
   "cell_type": "markdown",
   "metadata": {},
   "source": [
    "### 5. 경사 하강법"
   ]
  },
  {
   "cell_type": "code",
   "execution_count": 38,
   "metadata": {},
   "outputs": [
    {
     "name": "stdout",
     "output_type": "stream",
     "text": [
      "epoch=0, 기울기1=9.2800, 기울기2=4.2250, 절편=1.8100\n",
      "epoch=100, 기울기1=9.5110, 기울기2=5.0270, 절편=22.9205\n",
      "epoch=200, 기울기1=7.3238, 기울기2=4.2950, 절편=37.8751\n",
      "epoch=300, 기울기1=5.7381, 기울기2=3.7489, 절편=48.7589\n",
      "epoch=400, 기울기1=4.5844, 기울기2=3.3507, 절편=56.6800\n",
      "epoch=500, 기울기1=3.7447, 기울기2=3.0608, 절편=62.4448\n",
      "epoch=600, 기울기1=3.1337, 기울기2=2.8498, 절편=66.6404\n",
      "epoch=700, 기울기1=2.6890, 기울기2=2.6962, 절편=69.6938\n",
      "epoch=800, 기울기1=2.3653, 기울기2=2.5845, 절편=71.9160\n",
      "epoch=900, 기울기1=2.1297, 기울기2=2.5032, 절편=73.5333\n",
      "epoch=1000, 기울기1=1.9583, 기울기2=2.4440, 절편=74.7103\n",
      "epoch=1100, 기울기1=1.8336, 기울기2=2.4009, 절편=75.5670\n",
      "epoch=1200, 기울기1=1.7428, 기울기2=2.3695, 절편=76.1904\n",
      "epoch=1300, 기울기1=1.6767, 기울기2=2.3467, 절편=76.6441\n",
      "epoch=1400, 기울기1=1.6286, 기울기2=2.3301, 절편=76.9743\n",
      "epoch=1500, 기울기1=1.5936, 기울기2=2.3180, 절편=77.2146\n",
      "epoch=1600, 기울기1=1.5681, 기울기2=2.3092, 절편=77.3895\n",
      "epoch=1700, 기울기1=1.5496, 기울기2=2.3028, 절편=77.5168\n",
      "epoch=1800, 기울기1=1.5361, 기울기2=2.2982, 절편=77.6095\n",
      "epoch=1900, 기울기1=1.5263, 기울기2=2.2948, 절편=77.6769\n",
      "epoch=2000, 기울기1=1.5191, 기울기2=2.2923, 절편=77.7260\n"
     ]
    }
   ],
   "source": [
    "# x 값이 총 몇 개인지 셉니다. x1과 x2의 수가 같으므로 x1만 세겠습니다. \n",
    "n=len(x1)\n",
    "\n",
    "#경사 하강법을 시작합니다.\n",
    "for i in range(epochs):                  # epoch 수 만큼 반복\n",
    "    \n",
    "    y_pred = a1 * x1 + a2 * x2 + b       #예측 값을 구하는 식을 세웁니다\n",
    "    error = y - y_pred                   #실제 값과 비교한 오차를 error로 놓습니다.\n",
    "    \n",
    "    a1_diff = (2/n) * sum(-x1 * (error)) # 오차함수를 a1로 편미분한 값입니다. \n",
    "    a2_diff = (2/n) * sum(-x2 * (error)) # 오차함수를 a2로 편미분한 값입니다. \n",
    "    b_diff = (2/n) * sum(-(error))       # 오차함수를 b로 편미분한 값입니다. \n",
    "    \n",
    "    a1 = a1 - lr * a1_diff  # 학습률을 곱해 기존의 a1 값을 업데이트합니다.\n",
    "    a2 = a2 - lr * a2_diff  # 학습률을 곱해 기존의 a2 값을 업데이트합니다.\n",
    "    b = b - lr * b_diff     # 학습률을 곱해 기존의 b 값을 업데이트합니다.\n",
    "    \n",
    "    if i % 100 == 0:        # 100번 반복될 때마다 현재의 a1, a2, b 값을 출력합니다.\n",
    "        print(\"epoch=%.f, 기울기1=%.04f, 기울기2=%.04f, 절편=%.04f\" % (i, a1, a2, b))\n",
    "        "
   ]
  },
  {
   "cell_type": "code",
   "execution_count": 39,
   "metadata": {},
   "outputs": [
    {
     "name": "stdout",
     "output_type": "stream",
     "text": [
      "실제 점수: [81 93 91 97]\n",
      "예측 점수: [80.76387645 92.97153922 91.42520875 96.7558749 ]\n"
     ]
    }
   ],
   "source": [
    "#실제 점수와 예측 된 점수를 출력합니다.\n",
    "print(\"실제 점수:\", y)\n",
    "print(\"예측 점수:\", y_pred)"
   ]
  },
  {
   "cell_type": "markdown",
   "metadata": {},
   "source": [
    "## 5-1. 텐서플로에서 실행하는 선형 회귀 모델"
   ]
  },
  {
   "cell_type": "markdown",
   "metadata": {},
   "source": [
    "### 1.환경 준비"
   ]
  },
  {
   "cell_type": "code",
   "execution_count": 40,
   "metadata": {},
   "outputs": [],
   "source": [
    "import numpy as np\n",
    "import matplotlib.pyplot as plt\n",
    "\n",
    "#텐서플로의 케라스 API에서 필요한 함수들을 불러 옵니다.\n",
    "from tensorflow.keras.models import Sequential\n",
    "from tensorflow.keras.layers import Dense"
   ]
  },
  {
   "cell_type": "markdown",
   "metadata": {},
   "source": [
    "### 2. 데이터 준비"
   ]
  },
  {
   "cell_type": "code",
   "execution_count": 41,
   "metadata": {},
   "outputs": [],
   "source": [
    "x = np.array([2, 4, 6, 8])\n",
    "y = np.array([81, 93, 91, 97]) "
   ]
  },
  {
   "cell_type": "markdown",
   "metadata": {},
   "source": [
    "### 3. 모델 실행"
   ]
  },
  {
   "cell_type": "code",
   "execution_count": 42,
   "metadata": {},
   "outputs": [
    {
     "data": {
      "text/plain": [
       "<keras.src.callbacks.history.History at 0x1c7cd9b02b0>"
      ]
     },
     "execution_count": 42,
     "metadata": {},
     "output_type": "execute_result"
    }
   ],
   "source": [
    "model = Sequential()\n",
    "\n",
    "# 출력 값, 입력 변수, 분석 방법에 맞게끔 모델을 설정합니다. \n",
    "model.add(Dense(1, input_dim=1, activation='linear'))\n",
    "\n",
    "# 오차 수정을 위해 경사 하강법(sgd)을, 오차의 정도를 판단하기 위해 평균 제곱 오차(mse)를 사용합니다. \n",
    "model.compile(optimizer='sgd', loss='mse')\n",
    "\n",
    "# 오차를 최소화하는 과정을 500번 반복합니다.\n",
    "model.fit(x, y, epochs=500, verbose=0) #verbose=0은 출력을 생략합니다. 출력을 확인하고 싶은 경우 verbose=1로 설정하세요."
   ]
  },
  {
   "cell_type": "markdown",
   "metadata": {},
   "source": [
    "### 4. 그래프로 확인"
   ]
  },
  {
   "cell_type": "code",
   "execution_count": 43,
   "metadata": {},
   "outputs": [
    {
     "name": "stdout",
     "output_type": "stream",
     "text": [
      "\u001b[1m1/1\u001b[0m \u001b[32m━━━━━━━━━━━━━━━━━━━━\u001b[0m\u001b[37m\u001b[0m \u001b[1m0s\u001b[0m 36ms/step\n"
     ]
    },
    {
     "data": {
      "image/png": "[encoded data removed]",
      "text/plain": [
       "<Figure size 640x480 with 1 Axes>"
      ]
     },
     "metadata": {},
     "output_type": "display_data"
    }
   ],
   "source": [
    "plt.scatter(x, y)\n",
    "plt.plot(x, model.predict(x),'r')    # 예측 결과를 그래프로 나타냅니다.\n",
    "plt.show()"
   ]
  },
  {
   "cell_type": "markdown",
   "metadata": {},
   "source": [
    "### 5. 모델 테스트"
   ]
  },
  {
   "cell_type": "code",
   "execution_count": 44,
   "metadata": {},
   "outputs": [
    {
     "name": "stdout",
     "output_type": "stream",
     "text": [
      "\u001b[1m1/1\u001b[0m \u001b[32m━━━━━━━━━━━━━━━━━━━━\u001b[0m\u001b[37m\u001b[0m \u001b[1m0s\u001b[0m 34ms/step\n",
      "7시간을 공부할 경우의 예상 점수는 97.71점입니다\n"
     ]
    }
   ],
   "source": [
    "import tensorflow as tf\n",
    "\n",
    "#임의의 시간을 집어넣어 점수를 예측하는 모델을 테스트해 보겠습니다.\n",
    "\n",
    "hour = 7\n",
    "\n",
    "input_data = tf.constant([[hour]], dtype=tf.float32)  #쥬피터 노트북 오류를 방지하기 위해 기본 데이터 타입을 float32로 정해 주었습니다.\n",
    "prediction = model.predict(input_data)[0][0]  \n",
    "\n",
    "print(\"%.f시간을 공부할 경우의 예상 점수는 %.02f점입니다\" % (hour, prediction))"
   ]
  },
  {
   "cell_type": "markdown",
   "metadata": {},
   "source": [
    "## 5-2 텐서플로에서 실행하는 다중 선형회귀 모델"
   ]
  },
  {
   "cell_type": "markdown",
   "metadata": {},
   "source": [
    "### 1.환경 준비"
   ]
  },
  {
   "cell_type": "code",
   "execution_count": 45,
   "metadata": {},
   "outputs": [],
   "source": [
    "import numpy as np\n",
    "import matplotlib.pyplot as plt\n",
    "\n",
    "#텐서플로의 케라스 API에서 필요한 함수들을 불러 옵니다.\n",
    "from tensorflow.keras.models import Sequential\n",
    "from tensorflow.keras.layers import Dense"
   ]
  },
  {
   "cell_type": "markdown",
   "metadata": {},
   "source": [
    "### 2. 데이터 준비"
   ]
  },
  {
   "cell_type": "code",
   "execution_count": 46,
   "metadata": {},
   "outputs": [],
   "source": [
    "x = np.array([[2, 0], [4, 4], [6, 2], [8, 3]])\n",
    "y = np.array([81, 93, 91, 97]) "
   ]
  },
  {
   "cell_type": "markdown",
   "metadata": {},
   "source": [
    "### 3. 모델 실행"
   ]
  },
  {
   "cell_type": "code",
   "execution_count": 47,
   "metadata": {},
   "outputs": [
    {
     "data": {
      "text/plain": [
       "<keras.src.callbacks.history.History at 0x1c7d125a1c0>"
      ]
     },
     "execution_count": 47,
     "metadata": {},
     "output_type": "execute_result"
    }
   ],
   "source": [
    "model = Sequential()\n",
    "\n",
    "#입력 변수가 2개(학습 시간, 과외 시간)이므로 input_dim에 2를 입력합니다. \n",
    "model.add(Dense(1, input_dim=2, activation='linear'))\n",
    "model.compile(optimizer='sgd' ,loss='mse')\n",
    "\n",
    "model.fit(x, y, epochs=500, verbose=0) #verbose=0은 출력을 생략합니다. 출력을 확인하고 싶은 경우 verbose=1로 설정하세요."
   ]
  },
  {
   "cell_type": "markdown",
   "metadata": {},
   "source": [
    "### 4. 모델 테스트"
   ]
  },
  {
   "cell_type": "code",
   "execution_count": 48,
   "metadata": {},
   "outputs": [
    {
     "name": "stdout",
     "output_type": "stream",
     "text": [
      "WARNING:tensorflow:5 out of the last 5 calls to <function TensorFlowTrainer.make_predict_function.<locals>.one_step_on_data_distributed at 0x000001C7CFB6AD30> triggered tf.function retracing. Tracing is expensive and the excessive number of tracings could be due to (1) creating @tf.function repeatedly in a loop, (2) passing tensors with different shapes, (3) passing Python objects instead of tensors. For (1), please define your @tf.function outside of the loop. For (2), @tf.function has reduce_retracing=True option that can avoid unnecessary retracing. For (3), please refer to https://www.tensorflow.org/guide/function#controlling_retracing and https://www.tensorflow.org/api_docs/python/tf/function for  more details.\n",
      "\u001b[1m1/1\u001b[0m \u001b[32m━━━━━━━━━━━━━━━━━━━━\u001b[0m\u001b[37m\u001b[0m \u001b[1m0s\u001b[0m 37ms/step\n",
      "6시간을 공부하고 3시간의 과외를 받을 경우, 예상 점수는 94.10점입니다\n"
     ]
    }
   ],
   "source": [
    "import tensorflow as tf\n",
    "#임의의 학습 시간과 과외 시간을 집어넣어 점수를 예측하는 모델을 테스트해 보겠습니다.\n",
    "\n",
    "hour = 6\n",
    "private_class = 3\n",
    "\n",
    "input_data = tf.constant([[hour, private_class]])  \n",
    "prediction = model.predict(input_data)[0][0]  \n",
    "\n",
    "print(\"%.f시간을 공부하고 %.f시간의 과외를 받을 경우, 예상 점수는 %.02f점입니다\" % (hour, private_class, prediction))"
   ]
  },
  {
   "cell_type": "code",
   "execution_count": null,
   "metadata": {},
   "outputs": [],
   "source": []
  }
 ],
 "metadata": {
  "kernelspec": {
   "display_name": "Python 3 (ipykernel)",
   "language": "python",
   "name": "python3"
  },
  "language_info": {
   "codemirror_mode": {
    "name": "ipython",
    "version": 3
   },
   "file_extension": ".py",
   "mimetype": "text/x-python",
   "name": "python",
   "nbconvert_exporter": "python",
   "pygments_lexer": "ipython3",
   "version": "3.9.21"
  }
 },
 "nbformat": 4,
 "nbformat_minor": 4
}
