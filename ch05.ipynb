{
 "cells": [
  {
   "cell_type": "markdown",
   "metadata": {},
   "source": [
    "# 5장. 선형 회귀 모델: 먼저 긋고 수정하기"
   ]
  },
  {
   "cell_type": "markdown",
   "metadata": {},
   "source": [
    "[<img src=\"https://raw.githubusercontent.com/taehojo/taehojo.github.io/master/assets/images/linktocolab.png\" align=\"left\"/> ](https://colab.research.google.com/github/taehojo/deeplearning/blob/master/colab/ch05-colab.ipynb)"
   ]
  },
  {
   "cell_type": "markdown",
   "metadata": {},
   "source": [
    "## 2. 파이썬 코딩으로 확인하는 선형 회귀"
   ]
  },
  {
   "cell_type": "markdown",
   "metadata": {},
   "source": [
    "### 1.환경 준비"
   ]
  },
  {
   "cell_type": "code",
   "execution_count": 2,
   "metadata": {},
   "outputs": [
    {
     "name": "stdout",
     "output_type": "stream",
     "text": [
      "Requirement already satisfied: matplotlib in c:\\users\\taehj\\anaconda3\\lib\\site-packages (3.4.3)\n",
      "Requirement already satisfied: kiwisolver>=1.0.1 in c:\\users\\taehj\\anaconda3\\lib\\site-packages (from matplotlib) (1.3.1)\n",
      "Requirement already satisfied: cycler>=0.10 in c:\\users\\taehj\\anaconda3\\lib\\site-packages (from matplotlib) (0.10.0)\n",
      "Requirement already satisfied: pillow>=6.2.0 in c:\\users\\taehj\\anaconda3\\lib\\site-packages (from matplotlib) (8.4.0)\n",
      "Requirement already satisfied: python-dateutil>=2.7 in c:\\users\\taehj\\anaconda3\\lib\\site-packages (from matplotlib) (2.8.2)\n",
      "Requirement already satisfied: numpy>=1.16 in c:\\users\\taehj\\anaconda3\\lib\\site-packages (from matplotlib) (1.20.3)\n",
      "Requirement already satisfied: pyparsing>=2.2.1 in c:\\users\\taehj\\anaconda3\\lib\\site-packages (from matplotlib) (3.0.4)\n",
      "Requirement already satisfied: six in c:\\users\\taehj\\anaconda3\\lib\\site-packages (from cycler>=0.10->matplotlib) (1.16.0)\n"
     ]
    }
   ],
   "source": [
    "#matplotlib 라이브러리를 설치합니다.\n",
    "!pip install matplotlib "
   ]
  },
  {
   "cell_type": "code",
   "execution_count": 3,
   "metadata": {},
   "outputs": [],
   "source": [
    "import numpy as np\n",
    "import matplotlib.pyplot as plt"
   ]
  },
  {
   "cell_type": "markdown",
   "metadata": {},
   "source": [
    "### 2. 데이터 준비"
   ]
  },
  {
   "cell_type": "code",
   "execution_count": 4,
   "metadata": {},
   "outputs": [],
   "source": [
    "#공부 시간 X와 성적 Y의 넘파이 배열을 만듭니다.\n",
    "x = np.array([2, 4, 6, 8])\n",
    "y = np.array([81, 93, 91, 97]) "
   ]
  },
  {
   "cell_type": "markdown",
   "metadata": {},
   "source": [
    "### 3. 데이터 분포 확인"
   ]
  },
  {
   "cell_type": "code",
   "execution_count": 5,
   "metadata": {},
   "outputs": [
    {
     "data": {
      "image/png": "[encoded data removed]",
      "text/plain": [
       "<Figure size 432x288 with 1 Axes>"
      ]
     },
     "metadata": {
      "needs_background": "light"
     },
     "output_type": "display_data"
    }
   ],
   "source": [
    "# 데이터의 분포를 그래프로 나타냅니다.\n",
    "plt.scatter(x, y)\n",
    "plt.show()"
   ]
  },
  {
   "cell_type": "markdown",
   "metadata": {},
   "source": [
    "### 4. 실행을 위한 변수 설정"
   ]
  },
  {
   "cell_type": "code",
   "execution_count": 6,
   "metadata": {},
   "outputs": [],
   "source": [
    "# 기울기 a와 절편 b의 값을 초기화합니다.\n",
    "a = 0\n",
    "b = 0\n",
    "\n",
    "#학습률을 정합니다.\n",
    "lr = 0.03\n",
    "\n",
    "#몇 번 반복될지를 설정합니다. \n",
    "epochs = 2001 "
   ]
  },
  {
   "cell_type": "markdown",
   "metadata": {},
   "source": [
    "### 5. 경사 하강법"
   ]
  },
  {
   "cell_type": "code",
   "execution_count": 7,
   "metadata": {},
   "outputs": [
    {
     "name": "stdout",
     "output_type": "stream",
     "text": [
      "epoch=0, 기울기=27.8400, 절편=5.4300\n",
      "epoch=100, 기울기=7.0739, 절편=50.5117\n",
      "epoch=200, 기울기=4.0960, 절편=68.2822\n",
      "epoch=300, 기울기=2.9757, 절편=74.9678\n",
      "epoch=400, 기울기=2.5542, 절편=77.4830\n",
      "epoch=500, 기울기=2.3956, 절편=78.4293\n",
      "epoch=600, 기울기=2.3360, 절편=78.7853\n",
      "epoch=700, 기울기=2.3135, 절편=78.9192\n",
      "epoch=800, 기울기=2.3051, 절편=78.9696\n",
      "epoch=900, 기울기=2.3019, 절편=78.9886\n",
      "epoch=1000, 기울기=2.3007, 절편=78.9957\n",
      "epoch=1100, 기울기=2.3003, 절편=78.9984\n",
      "epoch=1200, 기울기=2.3001, 절편=78.9994\n",
      "epoch=1300, 기울기=2.3000, 절편=78.9998\n",
      "epoch=1400, 기울기=2.3000, 절편=78.9999\n",
      "epoch=1500, 기울기=2.3000, 절편=79.0000\n",
      "epoch=1600, 기울기=2.3000, 절편=79.0000\n",
      "epoch=1700, 기울기=2.3000, 절편=79.0000\n",
      "epoch=1800, 기울기=2.3000, 절편=79.0000\n",
      "epoch=1900, 기울기=2.3000, 절편=79.0000\n",
      "epoch=2000, 기울기=2.3000, 절편=79.0000\n"
     ]
    }
   ],
   "source": [
    "# x 값이 총 몇 개인지 셉니다.\n",
    "n=len(x)\n",
    "\n",
    "#경사 하강법을 시작합니다.\n",
    "for i in range(epochs):                  # epoch 수 만큼 반복\n",
    "    \n",
    "    y_pred = a * x + b                   # 예측 값을 구하는 식입니다. \n",
    "    error = y - y_pred                   # 실제 값과 비교한 오차를 error로 놓습니다.\n",
    "    \n",
    "    a_diff = (2/n) * sum(-x * (error))   # 오차 함수를 a로 편미분한 값입니다. \n",
    "    b_diff = (2/n) * sum(-(error))       # 오차 함수를 b로 편미분한 값입니다. \n",
    "    \n",
    "    a = a - lr * a_diff     # 학습률을 곱해 기존의 a 값을 업데이트합니다.\n",
    "    b = b - lr * b_diff     # 학습률을 곱해 기존의 b 값을 업데이트합니다.\n",
    "    \n",
    "    if i % 100 == 0:        # 100번 반복될 때마다 현재의 a 값, b 값을 출력합니다.\n",
    "        print(\"epoch=%.f, 기울기=%.04f, 절편=%.04f\" % (i, a, b))        "
   ]
  },
  {
   "cell_type": "markdown",
   "metadata": {},
   "source": [
    "### 6. 그래프 확인 "
   ]
  },
  {
   "cell_type": "code",
   "execution_count": 8,
   "metadata": {},
   "outputs": [
    {
     "data": {
      "image/png": "[encoded data removed]",
      "text/plain": [
       "<Figure size 432x288 with 1 Axes>"
      ]
     },
     "metadata": {
      "needs_background": "light"
     },
     "output_type": "display_data"
    }
   ],
   "source": [
    "#앞서 구한 최종 a값을 기울기, b값을 y절편에 대입하여 그래프를 그립니다.\n",
    "y_pred = a * x + b      \n",
    "\n",
    "#그래프 출력\n",
    "plt.scatter(x, y)\n",
    "plt.plot(x, y_pred,'r')\n",
    "plt.show()"
   ]
  },
  {
   "cell_type": "markdown",
   "metadata": {},
   "source": [
    "## 4. 파이썬 코딩으로 확인하는 다중 선형 회귀"
   ]
  },
  {
   "cell_type": "markdown",
   "metadata": {},
   "source": [
    "### 1.환경 준비"
   ]
  },
  {
   "cell_type": "code",
   "execution_count": 9,
   "metadata": {},
   "outputs": [],
   "source": [
    "import numpy as np\n",
    "import matplotlib.pyplot as plt"
   ]
  },
  {
   "cell_type": "markdown",
   "metadata": {},
   "source": [
    "### 2. 데이터 준비"
   ]
  },
  {
   "cell_type": "code",
   "execution_count": 10,
   "metadata": {},
   "outputs": [],
   "source": [
    "#공부 시간 x1과 과외 시간 x2, 그성적 y의 넘파이 배열을 만듭니다. \n",
    "x1 = np.array([2, 4, 6, 8])\n",
    "x2 = np.array([0, 4, 2, 3])\n",
    "y = np.array([81, 93, 91, 97]) "
   ]
  },
  {
   "cell_type": "markdown",
   "metadata": {},
   "source": [
    "### 3. 데이터 분포 확인"
   ]
  },
  {
   "cell_type": "code",
   "execution_count": 11,
   "metadata": {},
   "outputs": [
    {
     "data": {
      "image/png": "[encoded data removed]",
      "text/plain": [
       "<Figure size 432x288 with 1 Axes>"
      ]
     },
     "metadata": {
      "needs_background": "light"
     },
     "output_type": "display_data"
    }
   ],
   "source": [
    "# 데이터의 분포를 그래프로 나타냅니다.\n",
    "fig = plt.figure()\n",
    "ax = fig.add_subplot(111, projection='3d')\n",
    "ax.scatter3D(x1, x2, y)\n",
    "plt.show()"
   ]
  },
  {
   "cell_type": "markdown",
   "metadata": {},
   "source": [
    "### 4. 실행을 위한 변수 설정"
   ]
  },
  {
   "cell_type": "code",
   "execution_count": 12,
   "metadata": {},
   "outputs": [],
   "source": [
    "# 기울기 a와 절편 b의 값을 초기화합니다.\n",
    "a1 = 0\n",
    "a2 = 0\n",
    "b = 0\n",
    "\n",
    "#학습률을 정합니다.\n",
    "lr = 0.01 \n",
    "\n",
    "#몇 번 반복될지를 설정합니다.\n",
    "epochs = 2001 "
   ]
  },
  {
   "cell_type": "markdown",
   "metadata": {},
   "source": [
    "### 5. 경사 하강법"
   ]
  },
  {
   "cell_type": "code",
   "execution_count": 13,
   "metadata": {},
   "outputs": [
    {
     "name": "stdout",
     "output_type": "stream",
     "text": [
      "epoch=0, 기울기1=9.2800, 기울기2=4.2250, 절편=1.8100\n",
      "epoch=100, 기울기1=9.5110, 기울기2=5.0270, 절편=22.9205\n",
      "epoch=200, 기울기1=7.3238, 기울기2=4.2950, 절편=37.8751\n",
      "epoch=300, 기울기1=5.7381, 기울기2=3.7489, 절편=48.7589\n",
      "epoch=400, 기울기1=4.5844, 기울기2=3.3507, 절편=56.6800\n",
      "epoch=500, 기울기1=3.7447, 기울기2=3.0608, 절편=62.4448\n",
      "epoch=600, 기울기1=3.1337, 기울기2=2.8498, 절편=66.6404\n",
      "epoch=700, 기울기1=2.6890, 기울기2=2.6962, 절편=69.6938\n",
      "epoch=800, 기울기1=2.3653, 기울기2=2.5845, 절편=71.9160\n",
      "epoch=900, 기울기1=2.1297, 기울기2=2.5032, 절편=73.5333\n",
      "epoch=1000, 기울기1=1.9583, 기울기2=2.4440, 절편=74.7103\n",
      "epoch=1100, 기울기1=1.8336, 기울기2=2.4009, 절편=75.5670\n",
      "epoch=1200, 기울기1=1.7428, 기울기2=2.3695, 절편=76.1904\n",
      "epoch=1300, 기울기1=1.6767, 기울기2=2.3467, 절편=76.6441\n",
      "epoch=1400, 기울기1=1.6286, 기울기2=2.3301, 절편=76.9743\n",
      "epoch=1500, 기울기1=1.5936, 기울기2=2.3180, 절편=77.2146\n",
      "epoch=1600, 기울기1=1.5681, 기울기2=2.3092, 절편=77.3895\n",
      "epoch=1700, 기울기1=1.5496, 기울기2=2.3028, 절편=77.5168\n",
      "epoch=1800, 기울기1=1.5361, 기울기2=2.2982, 절편=77.6095\n",
      "epoch=1900, 기울기1=1.5263, 기울기2=2.2948, 절편=77.6769\n",
      "epoch=2000, 기울기1=1.5191, 기울기2=2.2923, 절편=77.7260\n"
     ]
    }
   ],
   "source": [
    "# x 값이 총 몇 개인지 셉니다. x1과 x2의 수가 같으므로 x1만 세겠습니다. \n",
    "n=len(x1)\n",
    "\n",
    "#경사 하강법을 시작합니다.\n",
    "for i in range(epochs):                  # epoch 수 만큼 반복\n",
    "    \n",
    "    y_pred = a1 * x1 + a2 * x2 + b       #예측 값을 구하는 식을 세웁니다\n",
    "    error = y - y_pred                   #실제 값과 비교한 오차를 error로 놓습니다.\n",
    "    \n",
    "    a1_diff = (2/n) * sum(-x1 * (error)) # 오차함수를 a1로 편미분한 값입니다. \n",
    "    a2_diff = (2/n) * sum(-x2 * (error)) # 오차함수를 a2로 편미분한 값입니다. \n",
    "    b_diff = (2/n) * sum(-(error))       # 오차함수를 b로 편미분한 값입니다. \n",
    "    \n",
    "    a1 = a1 - lr * a1_diff  # 학습률을 곱해 기존의 a1 값을 업데이트합니다.\n",
    "    a2 = a2 - lr * a2_diff  # 학습률을 곱해 기존의 a2 값을 업데이트합니다.\n",
    "    b = b - lr * b_diff     # 학습률을 곱해 기존의 b 값을 업데이트합니다.\n",
    "    \n",
    "    if i % 100 == 0:        # 100번 반복될 때마다 현재의 a1, a2, b 값을 출력합니다.\n",
    "        print(\"epoch=%.f, 기울기1=%.04f, 기울기2=%.04f, 절편=%.04f\" % (i, a1, a2, b))\n",
    "        "
   ]
  },
  {
   "cell_type": "code",
   "execution_count": 14,
   "metadata": {},
   "outputs": [
    {
     "name": "stdout",
     "output_type": "stream",
     "text": [
      "실제 점수: [81 93 91 97]\n",
      "예측 점수: [80.76387645 92.97153922 91.42520875 96.7558749 ]\n"
     ]
    }
   ],
   "source": [
    "#실제 점수와 예측 된 점수를 출력합니다.\n",
    "print(\"실제 점수:\", y)\n",
    "print(\"예측 점수:\", y_pred)"
   ]
  },
  {
   "cell_type": "markdown",
   "metadata": {},
   "source": [
    "## 5-1. 텐서플로에서 실행하는 선형 회귀 모델"
   ]
  },
  {
   "cell_type": "markdown",
   "metadata": {},
   "source": [
    "### 1.환경 준비"
   ]
  },
  {
   "cell_type": "code",
   "execution_count": 15,
   "metadata": {},
   "outputs": [],
   "source": [
    "import numpy as np\n",
    "import matplotlib.pyplot as plt\n",
    "\n",
    "#텐서플로의 케라스 API에서 필요한 함수들을 불러 옵니다.\n",
    "from tensorflow.keras.models import Sequential\n",
    "from tensorflow.keras.layers import Dense"
   ]
  },
  {
   "cell_type": "markdown",
   "metadata": {},
   "source": [
    "### 2. 데이터 준비"
   ]
  },
  {
   "cell_type": "code",
   "execution_count": 16,
   "metadata": {},
   "outputs": [],
   "source": [
    "x = np.array([2, 4, 6, 8])\n",
    "y = np.array([81, 93, 91, 97]) "
   ]
  },
  {
   "cell_type": "markdown",
   "metadata": {},
   "source": [
    "### 3. 모델 실행"
   ]
  },
  {
   "cell_type": "code",
   "execution_count": 17,
   "metadata": {},
   "outputs": [
    {
     "data": {
      "text/plain": [
       "<keras.callbacks.History at 0x24db3e5c490>"
      ]
     },
     "execution_count": 17,
     "metadata": {},
     "output_type": "execute_result"
    }
   ],
   "source": [
    "model = Sequential()\n",
    "\n",
    "# 출력 값, 입력 변수, 분석 방법에 맞게끔 모델을 설정합니다. \n",
    "model.add(Dense(1, input_dim=1, activation='linear'))\n",
    "\n",
    "# 오차 수정을 위해 경사 하강법(sgd)을, 오차의 정도를 판단하기 위해 평균 제곱 오차(mse)를 사용합니다. \n",
    "model.compile(optimizer='sgd', loss='mse')\n",
    "\n",
    "# 오차를 최소화하는 과정을 500번 반복합니다.\n",
    "model.fit(x, y, epochs=500, verbose=0) #verbose=0은 출력을 생략합니다. 출력을 확인하고 싶은 경우 verbose=1로 설정하세요."
   ]
  },
  {
   "cell_type": "markdown",
   "metadata": {},
   "source": [
    "### 4. 그래프로 확인"
   ]
  },
  {
   "cell_type": "code",
   "execution_count": 18,
   "metadata": {},
   "outputs": [
    {
     "data": {
      "image/png": "[encoded data removed]",
      "text/plain": [
       "<Figure size 432x288 with 1 Axes>"
      ]
     },
     "metadata": {
      "needs_background": "light"
     },
     "output_type": "display_data"
    }
   ],
   "source": [
    "plt.scatter(x, y)\n",
    "plt.plot(x, model.predict(x),'r')    # 예측 결과를 그래프로 나타냅니다.\n",
    "plt.show()"
   ]
  },
  {
   "cell_type": "markdown",
   "metadata": {},
   "source": [
    "### 5. 모델 테스트"
   ]
  },
  {
   "cell_type": "code",
   "execution_count": 26,
   "metadata": {},
   "outputs": [
    {
     "name": "stdout",
     "output_type": "stream",
     "text": [
      "7시간을 공부할 경우의 예상 점수는 97.85점입니다\n"
     ]
    }
   ],
   "source": [
    "import tensorflow as tf\n",
    "\n",
    "#임의의 시간을 집어넣어 점수를 예측하는 모델을 테스트해 보겠습니다.\n",
    "\n",
    "hour = 7\n",
    "\n",
    "input_data = tf.constant([[hour]])  \n",
    "prediction = model.predict(input_data)[0][0]  \n",
    "\n",
    "print(\"%.f시간을 공부할 경우의 예상 점수는 %.02f점입니다\" % (hour, prediction))"
   ]
  },
  {
   "cell_type": "markdown",
   "metadata": {},
   "source": [
    "## 5-2 텐서플로에서 실행하는 다중 선형회귀 모델"
   ]
  },
  {
   "cell_type": "markdown",
   "metadata": {},
   "source": [
    "### 1.환경 준비"
   ]
  },
  {
   "cell_type": "code",
   "execution_count": 20,
   "metadata": {},
   "outputs": [],
   "source": [
    "import numpy as np\n",
    "import matplotlib.pyplot as plt\n",
    "\n",
    "#텐서플로의 케라스 API에서 필요한 함수들을 불러 옵니다.\n",
    "from tensorflow.keras.models import Sequential\n",
    "from tensorflow.keras.layers import Dense"
   ]
  },
  {
   "cell_type": "markdown",
   "metadata": {},
   "source": [
    "### 2. 데이터 준비"
   ]
  },
  {
   "cell_type": "code",
   "execution_count": 21,
   "metadata": {},
   "outputs": [],
   "source": [
    "x = np.array([[2, 0], [4, 4], [6, 2], [8, 3]])\n",
    "y = np.array([81, 93, 91, 97]) "
   ]
  },
  {
   "cell_type": "markdown",
   "metadata": {},
   "source": [
    "### 3. 모델 실행"
   ]
  },
  {
   "cell_type": "code",
   "execution_count": 22,
   "metadata": {},
   "outputs": [
    {
     "data": {
      "text/plain": [
       "<keras.callbacks.History at 0x24dbba41be0>"
      ]
     },
     "execution_count": 22,
     "metadata": {},
     "output_type": "execute_result"
    }
   ],
   "source": [
    "model = Sequential()\n",
    "\n",
    "#입력 변수가 2개(학습 시간, 과외 시간)이므로 input_dim에 2를 입력합니다. \n",
    "model.add(Dense(1, input_dim=2, activation='linear'))\n",
    "model.compile(optimizer='sgd' ,loss='mse')\n",
    "\n",
    "model.fit(x, y, epochs=500, verbose=0) #verbose=0은 출력을 생략합니다. 출력을 확인하고 싶은 경우 verbose=1로 설정하세요."
   ]
  },
  {
   "cell_type": "markdown",
   "metadata": {},
   "source": [
    "### 4. 모델 테스트"
   ]
  },
  {
   "cell_type": "code",
   "execution_count": 25,
   "metadata": {},
   "outputs": [
    {
     "name": "stdout",
     "output_type": "stream",
     "text": [
      "6시간을 공부하고 3시간의 과외를 받을 경우, 예상 점수는 94.10점입니다\n"
     ]
    }
   ],
   "source": [
    "import tensorflow as tf\n",
    "#임의의 학습 시간과 과외 시간을 집어넣어 점수를 예측하는 모델을 테스트해 보겠습니다.\n",
    "\n",
    "hour = 6\n",
    "private_class = 3\n",
    "\n",
    "input_data = tf.constant([[hour, private_class]])  \n",
    "prediction = model.predict(input_data)[0][0]  \n",
    "\n",
    "print(\"%.f시간을 공부하고 %.f시간의 과외를 받을 경우, 예상 점수는 %.02f점입니다\" % (hour, private_class, prediction))"
   ]
  },
  {
   "cell_type": "code",
   "execution_count": null,
   "metadata": {},
   "outputs": [],
   "source": []
  }
 ],
 "metadata": {
  "kernelspec": {
   "display_name": "Python 3 (ipykernel)",
   "language": "python",
   "name": "python3"
  },
  "language_info": {
   "codemirror_mode": {
    "name": "ipython",
    "version": 3
   },
   "file_extension": ".py",
   "mimetype": "text/x-python",
   "name": "python",
   "nbconvert_exporter": "python",
   "pygments_lexer": "ipython3",
   "version": "3.9.7"
  }
 },
 "nbformat": 4,
 "nbformat_minor": 2
}
