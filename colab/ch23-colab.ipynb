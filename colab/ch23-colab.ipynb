{
 "cells": [
  {
   "cell_type": "markdown",
   "metadata": {
    "id": "W_RyKsKvVLsD"
   },
   "source": [
    "# 23장 AI가 문맥을 파악하는 원리\n",
    "\n",
    "## <목차>\n",
    "\n",
    "- **23-1. 단어 간 유사성 측정하기**  \n",
    "- **23-2. 단어들 사이의 관계 파악하기**  \n",
    "- **23-3. 단어 사이의 관계 수정하기**  \n",
    "- **23-4. AI가 문맥을 파악하는 법**  \n",
    "- **23-5. 질문(쿼리), 단서(키), 답변(밸류)**  \n",
    "- **23-6. 트랜스포머를 위한 어텐션 만들기**  \n",
    "\n"
   ]
  },
  {
   "cell_type": "markdown",
   "metadata": {
    "id": "pu-4PPxuvgtE"
   },
   "source": [
    "## 23-1 단어 간 유사성 측정하기"
   ]
  },
  {
   "cell_type": "markdown",
   "metadata": {
    "id": "rbtPfMcN4FP0"
   },
   "source": [
    "**컴퓨터가 알아 들을 수 있도록 수치 형태로 변환하기**"
   ]
  },
  {
   "cell_type": "code",
   "execution_count": null,
   "metadata": {
    "colab": {
     "base_uri": "https://localhost:8080/"
    },
    "id": "aIdcUNrD5wtD",
    "outputId": "a3602619-d4dd-4ea6-dd7c-2dd8b934e34f"
   },
   "outputs": [
    {
     "name": "stdout",
     "output_type": "stream",
     "text": [
      "'귤'의 임베딩 벡터: [0 6]\n",
      "'딸기'의 임베딩 벡터: [0 5]\n",
      "'수박'의 임베딩 벡터: [1 6]\n",
      "'미소짓다'의 임베딩 벡터: [6 1]\n",
      "'화내다'의 임베딩 벡터: [6 0]\n",
      "'웃다'의 임베딩 벡터: [5 0]\n"
     ]
    }
   ],
   "source": [
    "import numpy as np\n",
    "import matplotlib.pyplot as plt\n",
    "\n",
    "# 단어와 임베딩 벡터 정의\n",
    "word_embeddings = {\n",
    "    '귤': np.array([0, 6]),\n",
    "    '딸기': np.array([0, 5]),\n",
    "    '수박': np.array([1, 6]),\n",
    "    '미소짓다': np.array([6, 1]),\n",
    "    '화내다': np.array([6, 0]),\n",
    "    '웃다': np.array([5, 0])\n",
    "}\n",
    "\n",
    "#출력해 보기\n",
    "for word, vec in word_embeddings.items():\n",
    "    print(f\"'{word}'의 임베딩 벡터: {vec}\")"
   ]
  },
  {
   "cell_type": "markdown",
   "metadata": {
    "id": "hJnzoMvDV0tH"
   },
   "source": [
    "**단어를 시각화 하기**"
   ]
  },
  {
   "cell_type": "code",
   "execution_count": null,
   "metadata": {
    "colab": {
     "base_uri": "https://localhost:8080/",
     "height": 367
    },
    "id": "qx0xw5AMWF_D",
    "outputId": "2e2de7eb-c771-44c9-9c49-92d52d602bd4"
   },
   "outputs": [
    {
     "data": {
      "image/png": "[encoded data removed]",
      "text/plain": [
       "<Figure size 400x400 with 1 Axes>"
      ]
     },
     "metadata": {},
     "output_type": "display_data"
    }
   ],
   "source": [
    "import numpy as np\n",
    "import matplotlib.pyplot as plt\n",
    "\n",
    "# 단어와 임베딩 벡터 정의\n",
    "word_embeddings = {\n",
    "    '귤': np.array([0, 6]),\n",
    "    '딸기': np.array([0, 5]),\n",
    "    '수박': np.array([1, 6]),\n",
    "    '미소짓다': np.array([6, 1]),\n",
    "    '화내다': np.array([6, 0]),\n",
    "    '웃다': np.array([5, 0])\n",
    "}\n",
    "\n",
    "# 단어 임베딩을 시각화해 봅니다.\n",
    "plt.figure(figsize=(4, 4))\n",
    "for word, vec in word_embeddings.items():\n",
    "    plt.scatter(*vec)\n",
    "    plt.text(vec[0] + 0.1, vec[1], word)\n",
    "plt.show()\n"
   ]
  },
  {
   "cell_type": "markdown",
   "metadata": {
    "id": "LXdaEWex07RF"
   },
   "source": [
    "<주의> 위 그림속 한글이 깨지면, 맨 하단의 [참고] 부분을 참고해 먼저 폰트를 설치하세요."
   ]
  },
  {
   "cell_type": "markdown",
   "metadata": {
    "id": "HK8P92Rr0zvo"
   },
   "source": [
    "## 23-2 단어들 사이의 관계 파악하기"
   ]
  },
  {
   "cell_type": "markdown",
   "metadata": {
    "id": "FCE0XQ_9-LKc"
   },
   "source": [
    "**내적 계산하기**"
   ]
  },
  {
   "cell_type": "code",
   "execution_count": null,
   "metadata": {
    "colab": {
     "base_uri": "https://localhost:8080/"
    },
    "id": "jZOM_dCU0udk",
    "outputId": "76643fda-c4f2-4404-9c26-a418d2e4ee35"
   },
   "outputs": [
    {
     "name": "stdout",
     "output_type": "stream",
     "text": [
      "귤 • 딸기: 30\n",
      "귤 • 웃다: 0\n"
     ]
    }
   ],
   "source": [
    "def dot_product(vec1, vec2):\n",
    "    return np.dot(vec1, vec2)\n",
    "\n",
    "# 예제 단어들 사이의 내적 계산\n",
    "print(\"귤 • 딸기:\", dot_product(word_embeddings['귤'], word_embeddings['딸기']))\n",
    "print(\"귤 • 웃다:\", dot_product(word_embeddings['귤'], word_embeddings['웃다']))\n",
    "\n"
   ]
  },
  {
   "cell_type": "markdown",
   "metadata": {
    "id": "FHcfm7of1J9F"
   },
   "source": [
    "**코사인 유사도 계산하기**"
   ]
  },
  {
   "cell_type": "code",
   "execution_count": null,
   "metadata": {
    "colab": {
     "base_uri": "https://localhost:8080/"
    },
    "id": "hIVukUyd1KcT",
    "outputId": "f17e6509-ee1d-4d34-d290-0d3c1aca0e88"
   },
   "outputs": [
    {
     "name": "stdout",
     "output_type": "stream",
     "text": [
      "귤 • 귤 유사성: 1.00\n",
      "귤 • 딸기 유사성: 1.00\n",
      "귤 • 수박 유사성: 0.99\n",
      "귤 • 미소짓다 유사성: 0.16\n",
      "귤 • 화내다 유사성: 0.00\n",
      "귤 • 웃다 유사성: 0.00\n",
      "딸기 • 귤 유사성: 1.00\n",
      "딸기 • 딸기 유사성: 1.00\n",
      "딸기 • 수박 유사성: 0.99\n",
      "딸기 • 미소짓다 유사성: 0.16\n",
      "딸기 • 화내다 유사성: 0.00\n",
      "딸기 • 웃다 유사성: 0.00\n",
      "수박 • 귤 유사성: 0.99\n",
      "수박 • 딸기 유사성: 0.99\n",
      "수박 • 수박 유사성: 1.00\n",
      "수박 • 미소짓다 유사성: 0.32\n",
      "수박 • 화내다 유사성: 0.16\n",
      "수박 • 웃다 유사성: 0.16\n",
      "미소짓다 • 귤 유사성: 0.16\n",
      "미소짓다 • 딸기 유사성: 0.16\n",
      "미소짓다 • 수박 유사성: 0.32\n",
      "미소짓다 • 미소짓다 유사성: 1.00\n",
      "미소짓다 • 화내다 유사성: 0.99\n",
      "미소짓다 • 웃다 유사성: 0.99\n",
      "화내다 • 귤 유사성: 0.00\n",
      "화내다 • 딸기 유사성: 0.00\n",
      "화내다 • 수박 유사성: 0.16\n",
      "화내다 • 미소짓다 유사성: 0.99\n",
      "화내다 • 화내다 유사성: 1.00\n",
      "화내다 • 웃다 유사성: 1.00\n",
      "웃다 • 귤 유사성: 0.00\n",
      "웃다 • 딸기 유사성: 0.00\n",
      "웃다 • 수박 유사성: 0.16\n",
      "웃다 • 미소짓다 유사성: 0.99\n",
      "웃다 • 화내다 유사성: 1.00\n",
      "웃다 • 웃다 유사성: 1.00\n"
     ]
    }
   ],
   "source": [
    "def cosine_similarity(v1, v2):\n",
    "    return np.dot(v1, v2) / (np.linalg.norm(v1) * np.linalg.norm(v2))\n",
    "\n",
    "words = list(word_embeddings.keys())\n",
    "embedding_vectors = np.array(list(word_embeddings.values()))\n",
    "\n",
    "# 코사인 유사성 계산\n",
    "similarities = []\n",
    "for v1 in embedding_vectors:\n",
    "    row = []\n",
    "    for v2 in embedding_vectors:\n",
    "        row.append(cosine_similarity(v1, v2))\n",
    "    similarities.append(row)\n",
    "\n",
    "# 결과 출력\n",
    "for i in range(len(words)):\n",
    "    for j in range(len(words)):\n",
    "        print(f\"{words[i]} • {words[j]} 유사성: {similarities[i][j]:.2f}\")\n"
   ]
  },
  {
   "cell_type": "markdown",
   "metadata": {
    "id": "OzVkfUYe1XTr"
   },
   "source": [
    "## 23-3 단어 사이의 관계 수정하기"
   ]
  },
  {
   "cell_type": "markdown",
   "metadata": {
    "id": "R-eQzp_F-c-t"
   },
   "source": [
    "**관계 업데이트**"
   ]
  },
  {
   "cell_type": "code",
   "execution_count": null,
   "metadata": {
    "colab": {
     "base_uri": "https://localhost:8080/"
    },
    "id": "2FaA27Z41XuD",
    "outputId": "a103c5a7-cfa4-40d9-b588-de76152aedab"
   },
   "outputs": [
    {
     "name": "stdout",
     "output_type": "stream",
     "text": [
      "업데이트 이전의 사과 벡터 (사과_?): [3 3]\n",
      "업데이트된 사과 벡터 (사과_과일): [2.003 3.997]\n"
     ]
    },
    {
     "name": "stderr",
     "output_type": "stream",
     "text": [
      "<ipython-input-34-8332a23a41cb>:2: RuntimeWarning: invalid value encountered in scalar divide\n",
      "  return np.dot(v1, v2) / (np.linalg.norm(v1) * np.linalg.norm(v2))\n"
     ]
    }
   ],
   "source": [
    "def update_vector(vector, target_vector, similarity_value, learning_rate):\n",
    "    new_vector = vector + learning_rate * (target_vector - vector) * similarity_value\n",
    "    return new_vector\n",
    "\n",
    "# 기존 딕셔너리에 추가\n",
    "word_embeddings['사과'] = np.array([3, 3])  # '사과' 초기 값 추가\n",
    "word_embeddings['과'] = np.array([0, 0])    # '과' 벡터 추가\n",
    "\n",
    "# 벡터 값 가져오기\n",
    "귤 = word_embeddings['귤']\n",
    "사과 = word_embeddings['사과']\n",
    "과 = word_embeddings['과']\n",
    "\n",
    "# '귤과 사과' 문장의 각 단어별 코사인 유사도\n",
    "cosine_귤_사과 = cosine_similarity(귤, 사과)\n",
    "cosine_과_사과 = cosine_similarity(과, 사과)\n",
    "\n",
    "# 학습률1의 예\n",
    "learning_rate1 = 0.47\n",
    "\n",
    "# '사과' 벡터를 '귤' 쪽으로 업데이트\n",
    "print(f\"업데이트 이전의 사과 벡터 (사과_?): {사과}\")\n",
    "사과_과일 = update_vector(사과, 귤, cosine_귤_사과, learning_rate1)\n",
    "print(f\"업데이트된 사과 벡터 (사과_과일): {사과_과일}\")\n"
   ]
  },
  {
   "cell_type": "markdown",
   "metadata": {
    "id": "khAB6Vjk22Dz"
   },
   "source": [
    "**모두 실행**"
   ]
  },
  {
   "cell_type": "code",
   "execution_count": null,
   "metadata": {
    "colab": {
     "base_uri": "https://localhost:8080/",
     "height": 456
    },
    "id": "jHpQ0Wt422g7",
    "outputId": "819c425f-2376-4486-c546-711d4bcedc2a"
   },
   "outputs": [
    {
     "name": "stdout",
     "output_type": "stream",
     "text": [
      "업데이트 이전의 사과 벡터 (사과_?): [3 3]\n",
      "업데이트된 사과 벡터 (사과_과일): [2.003 3.997]\n",
      "업데이트된 사과 벡터 (사과_행위): [3.9907 2.0093]\n"
     ]
    },
    {
     "name": "stderr",
     "output_type": "stream",
     "text": [
      "<ipython-input-36-265b275e1aec>:15: RuntimeWarning: invalid value encountered in scalar divide\n",
      "  return dot_product / (norm_v1 * norm_v2)\n"
     ]
    },
    {
     "data": {
      "image/png": "[encoded data removed]",
      "text/plain": [
       "<Figure size 400x400 with 1 Axes>"
      ]
     },
     "metadata": {},
     "output_type": "display_data"
    }
   ],
   "source": [
    "import numpy as np\n",
    "import matplotlib.pyplot as plt\n",
    "\n",
    "# 초기 벡터값 설정\n",
    "사과 = np.array([3, 3])\n",
    "귤 = np.array([0, 6])\n",
    "과 = np.array([0, 0])\n",
    "을 = np.array([0, 0])\n",
    "어제일 = np.array([6, 0])\n",
    "\n",
    "def cosine_similarity(v1, v2):\n",
    "    dot_product = np.dot(v1, v2)\n",
    "    norm_v1 = np.linalg.norm(v1)\n",
    "    norm_v2 = np.linalg.norm(v2)\n",
    "    return dot_product / (norm_v1 * norm_v2)\n",
    "\n",
    "def update_vector(vector, target_vector, similarity_value, learning_rate):\n",
    "    new_vector = vector + learning_rate * (target_vector - vector) * similarity_value\n",
    "    return new_vector\n",
    "\n",
    "# '귤과 사과' 문장의 각 단어별 코사인 유사도\n",
    "cosine_귤_사과 = cosine_similarity(귤, 사과)\n",
    "cosine_과_사과 = cosine_similarity(과, 사과)\n",
    "\n",
    "# 학습률1을 설정하겠습니다.\n",
    "learning_rate1 = 0.47\n",
    "\n",
    "# '사과' 벡터를 '귤' 쪽으로 업데이트\n",
    "print(f\"업데이트 이전의 사과 벡터 (사과_?): {사과}\")\n",
    "사과_과일 = update_vector(사과, 귤, cosine_귤_사과, learning_rate1)\n",
    "print(f\"업데이트된 사과 벡터 (사과_과일): {사과_과일}\")\n",
    "\n",
    "# '어제일을 사과' 문장의 각 단어별 코사인 유사도\n",
    "cosine_어제일_사과 = cosine_similarity(어제일, 사과_과일)\n",
    "cosine_을_사과 = cosine_similarity(을, 사과_과일)\n",
    "\n",
    "# 학습률2를 설정하겠습니다.\n",
    "learning_rate2 = 1.11\n",
    "\n",
    "# '사과' 벡터를 '어제일' 쪽으로 업데이트\n",
    "사과_행위 = update_vector(사과_과일, 어제일, cosine_어제일_사과, learning_rate2)\n",
    "print(f\"업데이트된 사과 벡터 (사과_행위): {사과_행위}\")\n",
    "\n",
    "# 단어 임베딩 시각화\n",
    "word_embeddings = {\n",
    "    \"사과_?\": 사과,\n",
    "    \"귤\": 귤,\n",
    "    \"어제일\": 어제일,\n",
    "    \"사과_과일\": 사과_과일,\n",
    "    \"사과_행위\": 사과_행위\n",
    "}\n",
    "\n",
    "plt.figure(figsize=(4, 4))\n",
    "for word, vec in word_embeddings.items():\n",
    "    plt.scatter(*vec)\n",
    "    plt.text(vec[0] + 0.1, vec[1], word, fontsize=12)\n",
    "\n",
    "plt.show()\n"
   ]
  },
  {
   "cell_type": "markdown",
   "metadata": {
    "id": "lsRxmpiu50Mg"
   },
   "source": [
    "## 23-4 AI가 문맥을 파악하는 법"
   ]
  },
  {
   "cell_type": "markdown",
   "metadata": {
    "id": "tpLGkAsw-9RJ"
   },
   "source": [
    "**임베딩 행렬의 형태**"
   ]
  },
  {
   "cell_type": "code",
   "execution_count": null,
   "metadata": {
    "colab": {
     "base_uri": "https://localhost:8080/"
    },
    "id": "uFpJfcA--_yP",
    "outputId": "8d7c8752-f4cb-4021-e481-9eaf975066f5"
   },
   "outputs": [
    {
     "name": "stdout",
     "output_type": "stream",
     "text": [
      "임베딩 행렬의 형태: (4, 512)\n"
     ]
    }
   ],
   "source": [
    "# import numpy as np\n",
    "\n",
    "# 단어와 해당 임베딩 벡터를 딕셔너리로 정의합니다.\n",
    "# 실제로는 사전 훈련된 임베딩 벡터를 사용하는 것이 일반적입니다.\n",
    "embedding_dict = {\n",
    "    '커피': np.random.rand(512),\n",
    "    '한잔': np.random.rand(512),\n",
    "    '어때': np.random.rand(512),\n",
    "    'PAD': np.zeros(512)  # 패딩 벡터는 0으로 채웁니다.\n",
    "}\n",
    "\n",
    "# 입력 문장\n",
    "sentence = ['커피', '한잔', '어때']\n",
    "max_len = 4  # 최대 문장 길이\n",
    "tokens = sentence + ['PAD'] * (max_len - len(sentence))  # 패딩 적용\n",
    "\n",
    "# 토큰을 임베딩 벡터로 변환\n",
    "embeddings = np.array([embedding_dict[token] for token in tokens])\n",
    "print(\"임베딩 행렬의 형태:\", embeddings.shape)  # (4, 512)\n"
   ]
  },
  {
   "cell_type": "markdown",
   "metadata": {
    "id": "7DmSCt4j_Gwr"
   },
   "source": [
    "**각 헤드의 형태**"
   ]
  },
  {
   "cell_type": "code",
   "execution_count": null,
   "metadata": {
    "colab": {
     "base_uri": "https://localhost:8080/"
    },
    "id": "95s8lYMd_D14",
    "outputId": "820328e4-776e-41ba-b2f8-c89a311b2ea6"
   },
   "outputs": [
    {
     "name": "stdout",
     "output_type": "stream",
     "text": [
      "각 헤드의 형태: (4, 64)\n"
     ]
    }
   ],
   "source": [
    "num_heads = 8\n",
    "head_dim = 512 // num_heads  # 각 헤드의 차원\n",
    "\n",
    "# 임베딩을 8개의 헤드로 분할\n",
    "heads = np.split(embeddings, num_heads, axis=1)\n",
    "print(\"각 헤드의 형태:\", heads[0].shape)  # (4, 64)\n"
   ]
  },
  {
   "cell_type": "markdown",
   "metadata": {
    "id": "JxnfxU1e_MmF"
   },
   "source": [
    "**내적 결과 행렬의 형태**"
   ]
  },
  {
   "cell_type": "code",
   "execution_count": null,
   "metadata": {
    "colab": {
     "base_uri": "https://localhost:8080/"
    },
    "id": "HHjYN81j_PVv",
    "outputId": "f5f508c6-dca5-48af-a24e-532185405798"
   },
   "outputs": [
    {
     "name": "stdout",
     "output_type": "stream",
     "text": [
      "내적 결과 행렬의 형태: (4, 4)\n"
     ]
    }
   ],
   "source": [
    "# 첫 번째 헤드 선택\n",
    "head_1 = heads[0]\n",
    "\n",
    "# 복사1과 복사2 생성\n",
    "copy1 = head_1\n",
    "copy2 = head_1.T\n",
    "\n",
    "# 내적 계산\n",
    "attention_scores = np.dot(copy1, copy2)\n",
    "print(\"내적 결과 행렬의 형태:\", attention_scores.shape)  # (4, 4)\n"
   ]
  },
  {
   "cell_type": "markdown",
   "metadata": {
    "id": "kTlW9Yk3_Syq"
   },
   "source": [
    "**복원된 헤드의 형태**"
   ]
  },
  {
   "cell_type": "code",
   "execution_count": null,
   "metadata": {
    "colab": {
     "base_uri": "https://localhost:8080/"
    },
    "id": "g6UJuBYF_TKK",
    "outputId": "b391fa5e-5658-44cd-b7f6-a4d95dd04644"
   },
   "outputs": [
    {
     "name": "stdout",
     "output_type": "stream",
     "text": [
      "복원된 헤드의 형태: (4, 64)\n"
     ]
    }
   ],
   "source": [
    "# 복사3 생성\n",
    "copy3 = embeddings[:, :head_dim]\n",
    "\n",
    "# 다시 4x64 형태로 변환\n",
    "restored_head = np.dot(attention_scores, copy3)\n",
    "print(\"복원된 헤드의 형태:\", restored_head.shape)  # (4, 64)\n"
   ]
  },
  {
   "cell_type": "markdown",
   "metadata": {
    "id": "yFHCjmH3_b0E"
   },
   "source": [
    "**최종 출력 행렬의 형태**"
   ]
  },
  {
   "cell_type": "code",
   "execution_count": null,
   "metadata": {
    "colab": {
     "base_uri": "https://localhost:8080/"
    },
    "id": "Cx7e0U0v_bPs",
    "outputId": "641f9657-fd61-48d0-cc98-ce2360098750"
   },
   "outputs": [
    {
     "name": "stdout",
     "output_type": "stream",
     "text": [
      "최종 출력 행렬의 형태: (4, 512)\n"
     ]
    }
   ],
   "source": [
    "restored_heads = []\n",
    "\n",
    "for i in range(num_heads):\n",
    "    head = heads[i]\n",
    "    copy1 = head\n",
    "    copy2 = head.T\n",
    "    attention_scores = np.dot(copy1, copy2)\n",
    "    copy3 = embeddings[:, i*head_dim:(i+1)*head_dim]\n",
    "    restored_head = np.dot(attention_scores, copy3)\n",
    "    restored_heads.append(restored_head)\n",
    "\n",
    "# 모든 헤드를 결합하여 원래 차원으로 복원\n",
    "final_output = np.concatenate(restored_heads, axis=1)\n",
    "print(\"최종 출력 행렬의 형태:\", final_output.shape)  # (4, 512)\n"
   ]
  },
  {
   "cell_type": "markdown",
   "metadata": {
    "id": "KTUmbVQq_h4V"
   },
   "source": [
    "**전체 실행**"
   ]
  },
  {
   "cell_type": "code",
   "execution_count": null,
   "metadata": {
    "colab": {
     "base_uri": "https://localhost:8080/"
    },
    "id": "swVzB-51_j0w",
    "outputId": "50b19462-a473-433e-bf8c-3ebb60f124df"
   },
   "outputs": [
    {
     "name": "stdout",
     "output_type": "stream",
     "text": [
      "임베딩 행렬의 형태: (4, 512)\n",
      "각 헤드의 형태: (4, 64)\n",
      "최종 출력 행렬의 형태: (4, 512)\n"
     ]
    }
   ],
   "source": [
    "import numpy as np\n",
    "\n",
    "# 단어와 해당 임베딩 벡터를 딕셔너리로 정의합니다.\n",
    "embedding_dict = {\n",
    "    '커피': np.random.rand(512),\n",
    "    '한잔': np.random.rand(512),\n",
    "    '어때': np.random.rand(512),\n",
    "    'PAD': np.zeros(512)  # 패딩 벡터는 0으로 채웁니다.\n",
    "}\n",
    "\n",
    "# 입력 문장\n",
    "sentence = ['커피', '한잔', '어때']\n",
    "max_len = 4  # 최대 문장 길이\n",
    "tokens = sentence + ['PAD'] * (max_len - len(sentence))  # 패딩 적용\n",
    "\n",
    "# 토큰을 임베딩 벡터로 변환\n",
    "embeddings = np.array([embedding_dict[token] for token in tokens])\n",
    "print(\"임베딩 행렬의 형태:\", embeddings.shape)  # (4, 512)\n",
    "\n",
    "# 임베딩을 8개의 헤드로 분할\n",
    "num_heads = 8\n",
    "head_dim = 512 // num_heads  # 각 헤드의 차원\n",
    "\n",
    "# 임베딩을 8개의 헤드로 분할\n",
    "heads = np.split(embeddings, num_heads, axis=1)\n",
    "print(\"각 헤드의 형태:\", heads[0].shape)  # (4, 64)\n",
    "\n",
    "# 각 헤드간의 내적 계산 및 복원\n",
    "restored_heads = []\n",
    "\n",
    "for i in range(num_heads):\n",
    "    head = heads[i] # i번째 헤드 선택\n",
    "    copy1 = head # 첫 번째 복사본\n",
    "    copy2 = head.T # 두 번째 복사본 (전치)\n",
    "    attention_scores = np.dot(copy1, copy2) # 내적 계산 (4x4 행렬)\n",
    "    copy3 = embeddings[:, i*head_dim:(i+1)*head_dim] # 복사3 생성 (4x64)\n",
    "    restored_head = np.dot(attention_scores, copy3) #내적 결과와 복사3을 곱하여 복원 (4x64)\n",
    "    restored_heads.append(restored_head) # 복원된 헤드를 리스트에 추가\n",
    "\n",
    "# 모든 헤드를 결합하여 원래 차원으로 복원\n",
    "final_output = np.concatenate(restored_heads, axis=1)\n",
    "print(\"최종 출력 행렬의 형태:\", final_output.shape)  # (4, 512)\n"
   ]
  },
  {
   "cell_type": "markdown",
   "metadata": {
    "id": "U6TMqVUM6D9B"
   },
   "source": [
    "## 23-5 질문(쿼리), 단서(키), 답변(밸류)"
   ]
  },
  {
   "cell_type": "markdown",
   "metadata": {
    "id": "mCWGSHJA_ta0"
   },
   "source": [
    "**쿼리, 키, 밸류**"
   ]
  },
  {
   "cell_type": "code",
   "execution_count": null,
   "metadata": {
    "colab": {
     "base_uri": "https://localhost:8080/"
    },
    "id": "AHHk_lXE_wct",
    "outputId": "8ab16828-f780-4959-dd43-7ed2ff4d3999"
   },
   "outputs": [
    {
     "name": "stdout",
     "output_type": "stream",
     "text": [
      "쿼리 행렬의 형태: (4, 64)\n",
      "키 행렬의 형태: (64, 4)\n",
      "밸류 행렬의 형태: (4, 64)\n"
     ]
    }
   ],
   "source": [
    "# 쿼리, 키, 밸류 행렬 초기화\n",
    "num_heads = 8\n",
    "head_dim = 512 // num_heads  # 각 헤드의 차원\n",
    "heads = np.split(embeddings, num_heads, axis=1)\n",
    "queries = heads.copy()\n",
    "keys = [head.T for head in heads]\n",
    "values = heads.copy()\n",
    "\n",
    "print(\"쿼리 행렬의 형태:\", queries[0].shape)  # (4, 64)\n",
    "print(\"키 행렬의 형태:\", keys[0].shape)  # (64, 4)\n",
    "print(\"밸류 행렬의 형태:\", values[0].shape)  # (4, 64)\n"
   ]
  },
  {
   "cell_type": "markdown",
   "metadata": {
    "id": "9qDDbFDq_0OH"
   },
   "source": [
    "**스케일링 전 어텐션 스코어**"
   ]
  },
  {
   "cell_type": "code",
   "execution_count": null,
   "metadata": {
    "colab": {
     "base_uri": "https://localhost:8080/"
    },
    "id": "uwEG8Lq0_3cD",
    "outputId": "f07270e6-f2df-404f-dbff-ddfab708a6fe"
   },
   "outputs": [
    {
     "name": "stdout",
     "output_type": "stream",
     "text": [
      "스케일링 전 어텐션 스코어:\n",
      "[[24.0274 19.2221 17.2669  0.    ]\n",
      " [19.2221 25.4512 15.7371  0.    ]\n",
      " [17.2669 15.7371 19.3056  0.    ]\n",
      " [ 0.      0.      0.      0.    ]]\n",
      "스케일링 후 어텐션 스코어:\n",
      "[[3.0034 2.4028 2.1584 0.    ]\n",
      " [2.4028 3.1814 1.9671 0.    ]\n",
      " [2.1584 1.9671 2.4132 0.    ]\n",
      " [0.     0.     0.     0.    ]]\n"
     ]
    }
   ],
   "source": [
    "# 스케일링 전\n",
    "attention_scores = np.dot(queries[0], keys[0])\n",
    "print(\"스케일링 전 어텐션 스코어:\")\n",
    "print(attention_scores)\n",
    "\n",
    "# 스케일링을 위한 헤드 차원의 제곱근 계산\n",
    "scaling_factor = np.sqrt(head_dim)\n",
    "\n",
    "# 스케일링 후\n",
    "scaled_attention_scores = attention_scores / scaling_factor\n",
    "print(\"스케일링 후 어텐션 스코어:\")\n",
    "print(scaled_attention_scores)\n"
   ]
  },
  {
   "cell_type": "markdown",
   "metadata": {
    "id": "S4Mkg5bA_6hp"
   },
   "source": [
    "**소프트맥스 적용 후 어텐션 스코어**"
   ]
  },
  {
   "cell_type": "code",
   "execution_count": null,
   "metadata": {
    "colab": {
     "base_uri": "https://localhost:8080/"
    },
    "id": "ypkYu81m_9h5",
    "outputId": "460392c8-e1c5-4b69-9de1-a7271fb56653"
   },
   "outputs": [
    {
     "name": "stdout",
     "output_type": "stream",
     "text": [
      "소프트맥스 적용 후 어텐션 스코어:\n",
      "[[0.5056 0.2773 0.2172 0.    ]\n",
      " [0.2614 0.5695 0.1691 0.    ]\n",
      " [0.3209 0.265  0.414  0.    ]\n",
      " [0.     0.     0.     0.    ]]\n"
     ]
    }
   ],
   "source": [
    "# 패딩 부분을 -∞로 채운 마스크 행렬 준비\n",
    "mask = np.zeros_like(scaled_attention_scores)\n",
    "mask[:, -1] = -np.inf  # 마지막 열을 패딩 처리\n",
    "mask[-1, :] = -np.inf  # 마지막 행을 패딩 처리\n",
    "\n",
    "# 소프트맥스 적용 함수\n",
    "def masked_softmax(x, mask):\n",
    "    x_exp = np.exp(x - np.max(x, axis=-1, keepdims=True))  # 오버플로 방지\n",
    "    x_exp = x_exp * (mask != -np.inf)  # 마스크된 부분은 0으로 처리\n",
    "    x_sum = np.sum(x_exp, axis=-1, keepdims=True) # 지수 값의 합 계산\n",
    "    x_sum = np.where(x_sum == 0, 1, x_sum)  # 0으로 나누는 것을 방지하기 위해 합이 0인 경우 1로 설정\n",
    "    return x_exp / x_sum # 소프트맥스 계산\n",
    "\n",
    "# 소프트맥스 적용\n",
    "attention_probs = masked_softmax(scaled_attention_scores, mask)\n",
    "print(\"소프트맥스 적용 후 어텐션 스코어:\")\n",
    "print(attention_probs)\n"
   ]
  },
  {
   "cell_type": "markdown",
   "metadata": {
    "id": "GHAY4r-sACld"
   },
   "source": [
    "**전체 실행**"
   ]
  },
  {
   "cell_type": "code",
   "execution_count": null,
   "metadata": {
    "colab": {
     "base_uri": "https://localhost:8080/"
    },
    "id": "HoGGaWBBAE6s",
    "outputId": "2fed216a-6fd2-4d54-c46d-8e884254aa37"
   },
   "outputs": [
    {
     "name": "stdout",
     "output_type": "stream",
     "text": [
      "임베딩 행렬의 형태: (4, 512)\n",
      "쿼리 행렬의 형태: (4, 64)\n",
      "키 행렬의 형태: (64, 4)\n",
      "밸류 행렬의 형태: (4, 64)\n",
      "스케일링 전 어텐션 스코어:\n",
      "[[27.8396 18.1708 17.4734  0.    ]\n",
      " [18.1708 21.1972 15.8224  0.    ]\n",
      " [17.4734 15.8224 19.0299  0.    ]\n",
      " [ 0.      0.      0.      0.    ]]\n",
      "스케일링 후 어텐션 스코어:\n",
      "[[3.48   2.2713 2.1842 0.    ]\n",
      " [2.2713 2.6497 1.9778 0.    ]\n",
      " [2.1842 1.9778 2.3787 0.    ]\n",
      " [0.     0.     0.     0.    ]]\n",
      "소프트맥스 적용 후 어텐션 스코어:\n",
      "[[0.636  0.1899 0.1741 0.    ]\n",
      " [0.312  0.4554 0.2326 0.    ]\n",
      " [0.3302 0.2686 0.4011 0.    ]\n",
      " [0.     0.     0.     0.    ]]\n",
      "최종 출력 행렬의 형태: (4, 512)\n"
     ]
    }
   ],
   "source": [
    "import numpy as np\n",
    "\n",
    "# 전체 출력 형식을 소수점 이하 네 자리로 설정\n",
    "np.set_printoptions(precision=4, suppress=True)\n",
    "\n",
    "# 단어와 해당 임베딩 벡터를 딕셔너리로 정의합니다.\n",
    "embedding_dict = {\n",
    "    '커피': np.random.rand(512),\n",
    "    '한잔': np.random.rand(512),\n",
    "    '어때': np.random.rand(512),\n",
    "    'PAD': np.zeros(512)  # 패딩 벡터는 0으로 채웁니다.\n",
    "}\n",
    "\n",
    "# 입력 문장\n",
    "sentence = ['커피', '한잔', '어때']\n",
    "max_len = 4  # 최대 문장 길이\n",
    "tokens = sentence + ['PAD'] * (max_len - len(sentence))  # 패딩 적용\n",
    "\n",
    "# 토큰을 임베딩 벡터로 변환\n",
    "embeddings = np.array([embedding_dict[token] for token in tokens])\n",
    "print(\"임베딩 행렬의 형태:\", embeddings.shape)  # (4, 512)\n",
    "\n",
    "# 쿼리, 키, 밸류 행렬 초기화\n",
    "num_heads = 8\n",
    "head_dim = 512 // num_heads  # 각 헤드의 차원\n",
    "heads = np.split(embeddings, num_heads, axis=1)\n",
    "queries = heads.copy()\n",
    "keys = [head.T for head in heads]\n",
    "values = heads.copy()\n",
    "\n",
    "print(\"쿼리 행렬의 형태:\", queries[0].shape)  # (4, 64)\n",
    "print(\"키 행렬의 형태:\", keys[0].shape)  # (64, 4)\n",
    "print(\"밸류 행렬의 형태:\", values[0].shape)  # (4, 64)\n",
    "\n",
    "# 2. 스케일링 전후의 결과\n",
    "# 스케일링 전\n",
    "attention_scores = np.dot(queries[0], keys[0])\n",
    "print(\"스케일링 전 어텐션 스코어:\")\n",
    "print(attention_scores)\n",
    "\n",
    "# 스케일링을 위한 헤드 차원의 제곱근 계산\n",
    "scaling_factor = np.sqrt(head_dim)\n",
    "\n",
    "# 스케일링 후\n",
    "scaled_attention_scores = attention_scores / scaling_factor\n",
    "print(\"스케일링 후 어텐션 스코어:\")\n",
    "print(scaled_attention_scores)\n",
    "\n",
    "# 3. 어텐션 스코어 계산 및 소프트맥스 적용 전후의 결과\n",
    "\n",
    "# 패딩 부분을 -∞로 채운 마스크 행렬 준비\n",
    "mask = np.zeros_like(scaled_attention_scores)\n",
    "mask[:, -1] = -np.inf  # 예시로 마지막 열을 패딩 처리\n",
    "mask[-1, :] = -np.inf  # 예시로 마지막 행을 패딩 처리\n",
    "\n",
    "# 소프트맥스 적용 함수\n",
    "def masked_softmax(x, mask):\n",
    "    x_exp = np.exp(x - np.max(x, axis=-1, keepdims=True))  # 오버플로 방지\n",
    "    x_exp = x_exp * (mask != -np.inf)  # 마스크된 부분은 0으로 처리\n",
    "    x_sum = np.sum(x_exp, axis=-1, keepdims=True)\n",
    "    x_sum = np.where(x_sum == 0, 1, x_sum)  # 0으로 나누는 것을 방지\n",
    "    return x_exp / x_sum\n",
    "\n",
    "# 소프트맥스 적용\n",
    "attention_probs = masked_softmax(scaled_attention_scores, mask)\n",
    "print(\"소프트맥스 적용 후 어텐션 스코어:\")\n",
    "print(attention_probs)\n",
    "\n",
    "# 복원된 헤드를 저장할 리스트\n",
    "restored_heads = []\n",
    "\n",
    "for i in range(num_heads):\n",
    "    query = queries[i]\n",
    "    key = keys[i]\n",
    "    value = values[i]\n",
    "\n",
    "    # 내적 계산 후 스케일링\n",
    "    attention_scores = np.dot(query, key) / scaling_factor\n",
    "\n",
    "    # 패딩 처리\n",
    "    padding_mask = (np.array(tokens) == 'PAD').astype(float)\n",
    "    padding_mask = np.tile(padding_mask, (attention_scores.shape[0], 1))\n",
    "    attention_scores = np.where(padding_mask, -np.inf, attention_scores)\n",
    "\n",
    "    # 소프트맥스 적용\n",
    "    attention_weights = masked_softmax(attention_scores, padding_mask)\n",
    "\n",
    "    # 밸류와의 곱셈\n",
    "    restored_head = np.dot(attention_weights, value)\n",
    "    restored_heads.append(restored_head)\n",
    "\n",
    "# 모든 헤드를 결합하여 원래 차원으로 복원\n",
    "final_output = np.concatenate(restored_heads, axis=1)\n",
    "print(\"최종 출력 행렬의 형태:\", final_output.shape)  # (4, 512)\n"
   ]
  },
  {
   "cell_type": "markdown",
   "metadata": {
    "id": "hYqaj_Gq6KJb"
   },
   "source": [
    "## 23-6 트랜스포머를 위한 어텐션 만들기"
   ]
  },
  {
   "cell_type": "markdown",
   "metadata": {
    "id": "SKj8GTicAMec"
   },
   "source": [
    "**여러 문장의 임베딩**"
   ]
  },
  {
   "cell_type": "code",
   "execution_count": null,
   "metadata": {
    "colab": {
     "base_uri": "https://localhost:8080/"
    },
    "id": "FldMIBerAO-I",
    "outputId": "00dca1c6-cb32-43ae-a8e9-b69c8cee6411"
   },
   "outputs": [
    {
     "name": "stdout",
     "output_type": "stream",
     "text": [
      "임베딩 행렬의 형태: (3, 5, 512)\n"
     ]
    }
   ],
   "source": [
    "# 입력 문장\n",
    "sentences = [\n",
    "    ['<sos>', '커피', '한잔', '어때', '<eos>'],\n",
    "    ['<sos>', '오늘', '날씨', '좋네', '<eos>'],\n",
    "    ['<sos>', '옷이', '어울려요', '<eos>', 'PAD']\n",
    "]\n",
    "\n",
    "# 단어와 해당 임베딩 벡터를 딕셔너리로 정의합니다.\n",
    "embedding_dict = {\n",
    "    '<sos>': np.random.rand(512),\n",
    "    '<eos>': np.random.rand(512),\n",
    "    '커피': np.random.rand(512),\n",
    "    '한잔': np.random.rand(512),\n",
    "    '어때': np.random.rand(512),\n",
    "    '오늘': np.random.rand(512),\n",
    "    '날씨': np.random.rand(512),\n",
    "    '좋네': np.random.rand(512),\n",
    "    '옷이': np.random.rand(512),\n",
    "    '어울려요': np.random.rand(512),\n",
    "    'PAD': np.zeros(512)  # 패딩 벡터는 0으로 채웁니다.\n",
    "}\n",
    "\n",
    "max_len = 5  # 최대 문장 길이\n",
    "\n",
    "# 토큰을 임베딩 벡터로 변환\n",
    "embeddings = np.array([[embedding_dict[token] for token in sentence] for sentence in sentences])\n",
    "print(\"임베딩 행렬의 형태:\", embeddings.shape)  # (3, 5, 512)\n"
   ]
  },
  {
   "cell_type": "markdown",
   "metadata": {
    "id": "9w_JzOhpASZT"
   },
   "source": [
    "**여러 문장에서의 키, 쿼리, 밸류**"
   ]
  },
  {
   "cell_type": "code",
   "execution_count": null,
   "metadata": {
    "colab": {
     "base_uri": "https://localhost:8080/"
    },
    "id": "9fSvts5uAVys",
    "outputId": "9d55dc8c-2192-4415-ddeb-d8e35621778d"
   },
   "outputs": [
    {
     "name": "stdout",
     "output_type": "stream",
     "text": [
      "쿼리 행렬의 형태: (3, 5, 64)\n",
      "키 행렬의 형태: (3, 64, 5)\n",
      "밸류 행렬의 형태: (3, 5, 64)\n"
     ]
    }
   ],
   "source": [
    "# 쿼리, 키, 밸류 행렬 초기화\n",
    "num_heads = 8\n",
    "head_dim = 512 // num_heads  # 각 헤드의 차원\n",
    "heads = np.split(embeddings, num_heads, axis=2) # 512차원 임베딩 벡터를 8개의 헤드로 분할하여 heads에 저장\n",
    "queries = heads.copy()\n",
    "keys = [head.transpose(0, 2, 1) for head in heads] # 키 행렬을 각 헤드의 전치를 통해 초기화 (첫 번째 축: 배치 크기, 두 번째 축: 문장 길이, 세 번째 축: 헤드 차원)\n",
    "values = heads.copy()\n",
    "\n",
    "print(\"쿼리 행렬의 형태:\", queries[0].shape)  # (3, 5, 64)\n",
    "print(\"키 행렬의 형태:\", keys[0].shape)  # (3, 64, 5)\n",
    "print(\"밸류 행렬의 형태:\", values[0].shape)  # (3, 5, 64)\n"
   ]
  },
  {
   "cell_type": "markdown",
   "metadata": {
    "id": "dIij_yyyAeu2"
   },
   "source": [
    "**전체 코드**"
   ]
  },
  {
   "cell_type": "code",
   "execution_count": null,
   "metadata": {
    "colab": {
     "base_uri": "https://localhost:8080/"
    },
    "id": "1jC90li8Ago5",
    "outputId": "a0080ea1-e3b7-4aef-dc83-a0e4994be03f"
   },
   "outputs": [
    {
     "name": "stdout",
     "output_type": "stream",
     "text": [
      "임베딩 행렬의 형태: (3, 5, 512)\n",
      "쿼리 행렬의 형태: (3, 5, 64)\n",
      "키 행렬의 형태: (3, 64, 5)\n",
      "밸류 행렬의 형태: (3, 5, 64)\n",
      "어텐션 이전의 임베딩 테이블 중 '커피', '한잔', '어때' 토큰의 평균 값:\n",
      "[0.4827 0.4775 0.4829]\n",
      "어텐션 이후의 결과 중 '커피', '한잔', '어때' 토큰의 평균 값:\n",
      "[0.4935 0.4926 0.4939]\n"
     ]
    }
   ],
   "source": [
    "import numpy as np\n",
    "\n",
    "# 전체 출력 형식을 소수점 이하 네 자리로 설정\n",
    "np.set_printoptions(precision=4, suppress=True)\n",
    "\n",
    "# 단어와 해당 임베딩 벡터를 딕셔너리로 정의합니다.\n",
    "embedding_dict = {\n",
    "    '<sos>': np.random.rand(512),\n",
    "    '<eos>': np.random.rand(512),\n",
    "    '커피': np.random.rand(512),\n",
    "    '한잔': np.random.rand(512),\n",
    "    '어때': np.random.rand(512),\n",
    "    '오늘': np.random.rand(512),\n",
    "    '날씨': np.random.rand(512),\n",
    "    '좋네': np.random.rand(512),\n",
    "    '옷이': np.random.rand(512),\n",
    "    '어울려요': np.random.rand(512),\n",
    "    'PAD': np.zeros(512)  # 패딩 벡터는 0으로 채웁니다.\n",
    "}\n",
    "\n",
    "# 입력 문장\n",
    "sentences = [\n",
    "    ['<sos>', '커피', '한잔', '어때', '<eos>'],\n",
    "    ['<sos>', '오늘', '날씨', '좋네', '<eos>'],\n",
    "    ['<sos>', '옷이', '어울려요', '<eos>', 'PAD']\n",
    "]\n",
    "max_len = 5  # 최대 문장 길이\n",
    "\n",
    "# 토큰을 임베딩 벡터로 변환\n",
    "embeddings = np.array([[embedding_dict[token] for token in sentence] for sentence in sentences])\n",
    "print(\"임베딩 행렬의 형태:\", embeddings.shape)  # (3, 5, 512)\n",
    "\n",
    "# 쿼리, 키, 밸류 행렬 초기화\n",
    "num_heads = 8\n",
    "head_dim = 512 // num_heads  # 각 헤드의 차원\n",
    "heads = np.split(embeddings, num_heads, axis=2)  # 512차원 임베딩 벡터를 8개의 헤드로 분할하여 heads에 저장\n",
    "queries = heads.copy()\n",
    "keys = [head.transpose(0, 2, 1) for head in heads]  # 키 행렬을 각 헤드의 전치를 통해 초기화 (첫 번째 축: 배치 크기, 두 번째 축: 문장 길이, 세 번째 축: 헤드 차원)\n",
    "values = heads.copy()\n",
    "\n",
    "print(\"쿼리 행렬의 형태:\", queries[0].shape)  # (3, 5, 64)\n",
    "print(\"키 행렬의 형태:\", keys[0].shape)  # (3, 64, 5)\n",
    "print(\"밸류 행렬의 형태:\", values[0].shape)  # (3, 5, 64)\n",
    "\n",
    "# 특정 토큰 (커피, 한잔, 어때)의 인덱스\n",
    "tokens_of_interest = ['커피', '한잔', '어때']\n",
    "indices_of_interest = [sentences[0].index(token) for token in tokens_of_interest]\n",
    "\n",
    "# 어텐션 이전의 임베딩 테이블 중 특정 토큰들의 평균 값 계산\n",
    "print(\"어텐션 이전의 임베딩 테이블 중 '커피', '한잔', '어때' 토큰의 평균 값:\")\n",
    "initial_avg = np.mean(embeddings[0, indices_of_interest, :], axis=1)\n",
    "print(initial_avg)\n",
    "\n",
    "# 스케일링 및 어텐션 스코어 계산\n",
    "attention_scores = np.matmul(queries[0], keys[0])\n",
    "scaling_factor = np.sqrt(head_dim)\n",
    "scaled_attention_scores = attention_scores / scaling_factor\n",
    "\n",
    "# 패딩 처리\n",
    "mask = np.array([[token == 'PAD' for token in sentence] for sentence in sentences])\n",
    "mask = mask[:, np.newaxis, :]  # 차원을 맞추기 위해 확장\n",
    "scaled_attention_scores = np.where(mask, -np.inf, scaled_attention_scores)\n",
    "\n",
    "# 소프트맥스 적용 함수\n",
    "def softmax(x):\n",
    "    exp_x = np.exp(x - np.max(x, axis=-1, keepdims=True))\n",
    "    return exp_x / np.sum(exp_x, axis=-1, keepdims=True)\n",
    "\n",
    "# 복원된 헤드를 저장할 리스트\n",
    "restored_heads = []\n",
    "\n",
    "for i in range(num_heads):\n",
    "    query = queries[i]\n",
    "    key = keys[i]\n",
    "    value = values[i]\n",
    "\n",
    "    # 내적 계산 후 스케일링\n",
    "    attention_scores = np.matmul(query, key) / scaling_factor\n",
    "\n",
    "    # 패딩 처리\n",
    "    mask = np.array([[token == 'PAD' for token in sentence] for sentence in sentences])\n",
    "    mask = mask[:, np.newaxis, :]  # 차원을 맞추기 위해 확장\n",
    "    attention_scores = np.where(mask, -np.inf, attention_scores)\n",
    "\n",
    "    # 소프트맥스 적용\n",
    "    attention_weights = softmax(attention_scores)\n",
    "\n",
    "    # 밸류와의 곱셈\n",
    "    restored_head = np.matmul(attention_weights, value)\n",
    "    restored_heads.append(restored_head)\n",
    "\n",
    "# 모든 헤드를 결합하여 원래 차원으로 복원\n",
    "final_output = np.concatenate(restored_heads, axis=2)\n",
    "\n",
    "# 어텐션 이후의 결과 중 특정 토큰들의 평균 값 계산\n",
    "print(\"어텐션 이후의 결과 중 '커피', '한잔', '어때' 토큰의 평균 값:\")\n",
    "final_avg = np.mean(final_output[0, indices_of_interest, :], axis=1)\n",
    "print(final_avg)\n"
   ]
  },
  {
   "cell_type": "markdown",
   "metadata": {
    "id": "27CoZ7tiR9T9"
   },
   "source": [
    "## [참고] 그림 속 폰트가 깨지면 실행하세요."
   ]
  },
  {
   "cell_type": "markdown",
   "metadata": {
    "id": "Nxcy2Ye_zzeR"
   },
   "source": [
    "<1> 아래 코드를 실행해 필요한 폰트를 설치합니다."
   ]
  },
  {
   "cell_type": "code",
   "execution_count": null,
   "metadata": {
    "colab": {
     "base_uri": "https://localhost:8080/"
    },
    "id": "CmScCcOA7frd",
    "outputId": "cb68f629-bd55-4870-8dad-603a2da9b199"
   },
   "outputs": [
    {
     "name": "stdout",
     "output_type": "stream",
     "text": [
      "Reading package lists... Done\n",
      "Building dependency tree... Done\n",
      "Reading state information... Done\n",
      "fonts-nanum is already the newest version (20200506-1).\n",
      "0 upgraded, 0 newly installed, 0 to remove and 49 not upgraded.\n",
      "/usr/share/fonts: caching, new cache contents: 0 fonts, 1 dirs\n",
      "/usr/share/fonts/truetype: caching, new cache contents: 0 fonts, 3 dirs\n",
      "/usr/share/fonts/truetype/humor-sans: caching, new cache contents: 1 fonts, 0 dirs\n",
      "/usr/share/fonts/truetype/liberation: caching, new cache contents: 16 fonts, 0 dirs\n",
      "/usr/share/fonts/truetype/nanum: caching, new cache contents: 12 fonts, 0 dirs\n",
      "/usr/local/share/fonts: caching, new cache contents: 0 fonts, 0 dirs\n",
      "/root/.local/share/fonts: skipping, no such directory\n",
      "/root/.fonts: skipping, no such directory\n",
      "/usr/share/fonts/truetype: skipping, looped directory detected\n",
      "/usr/share/fonts/truetype/humor-sans: skipping, looped directory detected\n",
      "/usr/share/fonts/truetype/liberation: skipping, looped directory detected\n",
      "/usr/share/fonts/truetype/nanum: skipping, looped directory detected\n",
      "/var/cache/fontconfig: cleaning cache directory\n",
      "/root/.cache/fontconfig: not cleaning non-existent cache directory\n",
      "/root/.fontconfig: not cleaning non-existent cache directory\n",
      "fc-cache: succeeded\n"
     ]
    }
   ],
   "source": [
    "!apt-get install -y fonts-nanum\n",
    "!fc-cache -fv\n",
    "!rm -rf ~/.cache/matplotlib"
   ]
  },
  {
   "cell_type": "markdown",
   "metadata": {
    "id": "4CIl8RhcSEgx"
   },
   "source": [
    "<2> 위 메뉴에서 \"런타임 > 세션 다시 시작\"을 클릭해서 런타임을 재시작합니다."
   ]
  },
  {
   "cell_type": "markdown",
   "metadata": {
    "id": "UuIYMhCWSSYp"
   },
   "source": [
    "<3> 아래 코드를 실행해 설치된 폰트를 확인합니다."
   ]
  },
  {
   "cell_type": "code",
   "execution_count": null,
   "metadata": {
    "colab": {
     "base_uri": "https://localhost:8080/"
    },
    "id": "RBbdWxzF6Fd3",
    "outputId": "f51678be-37d6-416b-f7c0-895a5776d1ba"
   },
   "outputs": [
    {
     "data": {
      "image/png": "[encoded data removed]",
      "text/plain": [
       "<Figure size 640x480 with 1 Axes>"
      ]
     },
     "metadata": {},
     "output_type": "display_data"
    }
   ],
   "source": [
    "import matplotlib.pyplot as plt\n",
    "\n",
    "plt.rc('font', family='NanumGothic')\n",
    "plt.rcParams['axes.unicode_minus'] = False\n",
    "\n",
    "plt.plot([1, 2, 3, 4])\n",
    "plt.title('한글 폰트 테스트')\n",
    "plt.show()"
   ]
  },
  {
   "cell_type": "code",
   "execution_count": null,
   "metadata": {
    "id": "JAc2Z9gB0kx7"
   },
   "outputs": [],
   "source": []
  }
 ],
 "metadata": {
  "colab": {
   "collapsed_sections": [
    "pu-4PPxuvgtE",
    "HK8P92Rr0zvo",
    "OzVkfUYe1XTr",
    "lsRxmpiu50Mg",
    "U6TMqVUM6D9B",
    "hYqaj_Gq6KJb",
    "27CoZ7tiR9T9"
   ],
   "provenance": []
  },
  "kernelspec": {
   "display_name": "Python 3 (ipykernel)",
   "language": "python",
   "name": "python3"
  },
  "language_info": {
   "codemirror_mode": {
    "name": "ipython",
    "version": 3
   },
   "file_extension": ".py",
   "mimetype": "text/x-python",
   "name": "python",
   "nbconvert_exporter": "python",
   "pygments_lexer": "ipython3",
   "version": "3.9.21"
  }
 },
 "nbformat": 4,
 "nbformat_minor": 4
}
