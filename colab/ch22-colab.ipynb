{
 "cells": [
  {
   "cell_type": "markdown",
   "metadata": {
    "id": "moFVlmfsMeEY"
   },
   "source": [
    "# 22장 시퀀스 배열로 다루는 순환 신경망"
   ]
  },
  {
   "cell_type": "markdown",
   "metadata": {
    "id": "BV80bxS7MeEd"
   },
   "source": [
    "## 1. LSTM을 이용한 로이터 뉴스 카테고리 분류하기"
   ]
  },
  {
   "cell_type": "code",
   "execution_count": null,
   "metadata": {
    "id": "LedMrcmrMeEe",
    "outputId": "a42c4a8c-c37d-4731-836e-1edb5f8b60cc"
   },
   "outputs": [
    {
     "name": "stdout",
     "output_type": "stream",
     "text": [
      "46 카테고리\n",
      "8982 학습용 뉴스 기사\n",
      "2246 테스트용 뉴스 기사\n",
      "[1, 2, 2, 8, 43, 10, 447, 5, 25, 207, 270, 5, 2, 111, 16, 369, 186, 90, 67, 7, 89, 5, 19, 102, 6, 19, 124, 15, 90, 67, 84, 22, 482, 26, 7, 48, 4, 49, 8, 864, 39, 209, 154, 6, 151, 6, 83, 11, 15, 22, 155, 11, 15, 7, 48, 9, 2, 2, 504, 6, 258, 6, 272, 11, 15, 22, 134, 44, 11, 15, 16, 8, 197, 2, 90, 67, 52, 29, 209, 30, 32, 132, 6, 109, 15, 17, 12]\n"
     ]
    }
   ],
   "source": [
    "from tensorflow.keras.models import Sequential\n",
    "from tensorflow.keras.layers import Dense, LSTM, Embedding\n",
    "from tensorflow.keras.utils import to_categorical\n",
    "from tensorflow.keras.preprocessing import sequence\n",
    "from tensorflow.keras.datasets import reuters       # 로이터 뉴스 데이터셋 불러오기\n",
    "from tensorflow.keras.callbacks import EarlyStopping\n",
    "\n",
    "import numpy as np\n",
    "import matplotlib.pyplot as plt\n",
    "\n",
    "# 데이터를 불러와 학습셋, 테스트셋으로 나눕니다.\n",
    "(X_train, y_train), (X_test, y_test) = reuters.load_data(num_words=1000, test_split=0.2)\n",
    "\n",
    "# 데이터를 확인해 보겠습니다.\n",
    "category = np.max(y_train) + 1\n",
    "print(category, '카테고리')\n",
    "print(len(X_train), '학습용 뉴스 기사')\n",
    "print(len(X_test), '테스트용 뉴스 기사')\n",
    "print(X_train[0])"
   ]
  },
  {
   "cell_type": "code",
   "execution_count": null,
   "metadata": {
    "id": "W6Ka1uHnMeEg",
    "outputId": "a182a8c5-58bf-448e-abae-5bfc86b09f63"
   },
   "outputs": [
    {
     "name": "stdout",
     "output_type": "stream",
     "text": [
      "Epoch 1/200\n",
      "450/450 [==============================] - 8s 11ms/step - loss: 2.2100 - accuracy: 0.4390 - val_loss: 1.9456 - val_accuracy: 0.5116\n",
      "Epoch 2/200\n",
      "450/450 [==============================] - 5s 11ms/step - loss: 1.8228 - accuracy: 0.5322 - val_loss: 1.7361 - val_accuracy: 0.5606\n",
      "Epoch 3/200\n",
      "450/450 [==============================] - 5s 11ms/step - loss: 1.6624 - accuracy: 0.5748 - val_loss: 1.6674 - val_accuracy: 0.5868\n",
      "Epoch 4/200\n",
      "450/450 [==============================] - 5s 11ms/step - loss: 1.5424 - accuracy: 0.6049 - val_loss: 1.4972 - val_accuracy: 0.6287\n",
      "Epoch 5/200\n",
      "450/450 [==============================] - 5s 11ms/step - loss: 1.3349 - accuracy: 0.6620 - val_loss: 1.3598 - val_accuracy: 0.6647\n",
      "Epoch 6/200\n",
      "450/450 [==============================] - 5s 11ms/step - loss: 1.2020 - accuracy: 0.6929 - val_loss: 1.2815 - val_accuracy: 0.6652\n",
      "Epoch 7/200\n",
      "450/450 [==============================] - 5s 11ms/step - loss: 1.0926 - accuracy: 0.7233 - val_loss: 1.2093 - val_accuracy: 0.6963\n",
      "Epoch 8/200\n",
      "450/450 [==============================] - 5s 11ms/step - loss: 0.9945 - accuracy: 0.7492 - val_loss: 1.1618 - val_accuracy: 0.7084\n",
      "Epoch 9/200\n",
      "450/450 [==============================] - 5s 11ms/step - loss: 0.9207 - accuracy: 0.7659 - val_loss: 1.1567 - val_accuracy: 0.7053\n",
      "Epoch 10/200\n",
      "450/450 [==============================] - 5s 11ms/step - loss: 0.8467 - accuracy: 0.7866 - val_loss: 1.1250 - val_accuracy: 0.7204\n",
      "Epoch 11/200\n",
      "450/450 [==============================] - 5s 11ms/step - loss: 0.7866 - accuracy: 0.8025 - val_loss: 1.1005 - val_accuracy: 0.7248\n",
      "Epoch 12/200\n",
      "450/450 [==============================] - 5s 11ms/step - loss: 0.7157 - accuracy: 0.8206 - val_loss: 1.1453 - val_accuracy: 0.7262\n",
      "Epoch 13/200\n",
      "450/450 [==============================] - 5s 11ms/step - loss: 0.6583 - accuracy: 0.8367 - val_loss: 1.1542 - val_accuracy: 0.7337\n",
      "Epoch 14/200\n",
      "450/450 [==============================] - 5s 11ms/step - loss: 0.6136 - accuracy: 0.8475 - val_loss: 1.1600 - val_accuracy: 0.7302\n",
      "Epoch 15/200\n",
      "450/450 [==============================] - 5s 11ms/step - loss: 0.5546 - accuracy: 0.8618 - val_loss: 1.1965 - val_accuracy: 0.7235\n",
      "Epoch 16/200\n",
      "450/450 [==============================] - 5s 11ms/step - loss: 0.5121 - accuracy: 0.8691 - val_loss: 1.2316 - val_accuracy: 0.7177\n",
      "71/71 [==============================] - 0s 4ms/step - loss: 1.2316 - accuracy: 0.7177\n",
      "\n",
      " Test Accuracy: 0.7177\n"
     ]
    }
   ],
   "source": [
    "# 단어의 수를 맞추어 줍니다. \n",
    "X_train = sequence.pad_sequences(X_train, maxlen=100)\n",
    "X_test = sequence.pad_sequences(X_test, maxlen=100)\n",
    "\n",
    "# 원-핫 인코딩 처리를 합니다.\n",
    "y_train = to_categorical(y_train)\n",
    "y_test = to_categorical(y_test)\n",
    "\n",
    "# 모델의 구조를 설정합니다.\n",
    "model = Sequential()\n",
    "model.add(Embedding(1000, 100))\n",
    "model.add(LSTM(100, activation='tanh'))\n",
    "model.add(Dense(46, activation='softmax'))\n",
    "\n",
    "# 모델의 실행 옵션을 정합니다.\n",
    "model.compile(loss='categorical_crossentropy', optimizer='adam', metrics=['accuracy'])\n",
    "\n",
    "# 학습의 조기 중단을 설정합니다.\n",
    "early_stopping_callback = EarlyStopping(monitor='val_loss', patience=5)\n",
    "\n",
    "# 모델을 실행합니다.\n",
    "history = model.fit(X_train, y_train, batch_size=20, epochs=200, validation_data=(X_test, y_test), callbacks=[early_stopping_callback])\n",
    "\n",
    "# 테스트 정확도를 출력합니다.\n",
    "print(\"\\n Test Accuracy: %.4f\" % (model.evaluate(X_test, y_test)[1]))"
   ]
  },
  {
   "cell_type": "code",
   "execution_count": null,
   "metadata": {
    "id": "VgAQgBNZMeEg",
    "outputId": "ce61c9a3-a396-4469-ddaf-7071820ba2eb"
   },
   "outputs": [
    {
     "data": {
      "image/png": "[encoded data removed]",
      "text/plain": [
       "<Figure size 432x288 with 1 Axes>"
      ]
     },
     "metadata": {
      "needs_background": "light"
     },
     "output_type": "display_data"
    }
   ],
   "source": [
    "# 학습셋과 테스트셋의 오차를 저장합니다. \n",
    "y_vloss = history.history['val_loss']\n",
    "y_loss = history.history['loss']\n",
    "\n",
    "# 그래프로 표현해 보겠습니다.\n",
    "x_len = np.arange(len(y_loss))\n",
    "plt.plot(x_len, y_vloss, marker='.', c=\"red\", label='Testset_loss')\n",
    "plt.plot(x_len, y_loss, marker='.', c=\"blue\", label='Trainset_loss')\n",
    "\n",
    "# 그래프에 그리드를 주고 레이블을 표시하겠습니다. \n",
    "plt.legend(loc='upper right')\n",
    "plt.grid()\n",
    "plt.xlabel('epoch')\n",
    "plt.ylabel('loss')\n",
    "plt.show()"
   ]
  },
  {
   "cell_type": "markdown",
   "metadata": {
    "id": "dJe5NA-bMeEh"
   },
   "source": [
    "## 2. LSTM과 CNN의 조합을 이용한 영화 리뷰 분류하기"
   ]
  },
  {
   "cell_type": "code",
   "execution_count": null,
   "metadata": {
    "id": "62aG-sujMeEi",
    "outputId": "625b8b9b-e9d8-462b-8177-662687479e8d"
   },
   "outputs": [
    {
     "name": "stdout",
     "output_type": "stream",
     "text": [
      "Model: \"sequential_1\"\n",
      "_________________________________________________________________\n",
      "Layer (type)                 Output Shape              Param #   \n",
      "=================================================================\n",
      "embedding_1 (Embedding)      (None, None, 100)         500000    \n",
      "_________________________________________________________________\n",
      "dropout (Dropout)            (None, None, 100)         0         \n",
      "_________________________________________________________________\n",
      "conv1d (Conv1D)              (None, None, 64)          32064     \n",
      "_________________________________________________________________\n",
      "max_pooling1d (MaxPooling1D) (None, None, 64)          0         \n",
      "_________________________________________________________________\n",
      "lstm_1 (LSTM)                (None, 55)                26400     \n",
      "_________________________________________________________________\n",
      "dense_1 (Dense)              (None, 1)                 56        \n",
      "_________________________________________________________________\n",
      "activation (Activation)      (None, 1)                 0         \n",
      "=================================================================\n",
      "Total params: 558,520\n",
      "Trainable params: 558,520\n",
      "Non-trainable params: 0\n",
      "_________________________________________________________________\n"
     ]
    }
   ],
   "source": [
    "from tensorflow.keras.models import Sequential\n",
    "from tensorflow.keras.layers import Dense, Dropout, Activation, Embedding, LSTM, Conv1D, MaxPooling1D\n",
    "from tensorflow.keras.datasets import imdb\n",
    "from tensorflow.keras.preprocessing import sequence\n",
    "from tensorflow.keras.callbacks import EarlyStopping\n",
    "\n",
    "import numpy as np\n",
    "import matplotlib.pyplot as plt\n",
    "\n",
    "# 데이터를 불러와 학습셋, 테스트셋으로 나눕니다.\n",
    "(X_train, y_train), (X_test, y_test) = imdb.load_data(num_words=5000)\n",
    "\n",
    "# 단어의 수를 맞추어 줍니다. \n",
    "X_train = sequence.pad_sequences(X_train, maxlen=500)\n",
    "X_test = sequence.pad_sequences(X_test, maxlen=500)\n",
    "\n",
    "# 모델의 구조를 설정합니다.\n",
    "model = Sequential()\n",
    "model.add(Embedding(5000, 100))\n",
    "model.add(Dropout(0.5))\n",
    "model.add(Conv1D(64, 5, padding='valid', activation='relu',strides=1))\n",
    "model.add(MaxPooling1D(pool_size=4))\n",
    "model.add(LSTM(55))\n",
    "model.add(Dense(1))\n",
    "model.add(Activation('sigmoid'))\n",
    "model.summary()"
   ]
  },
  {
   "cell_type": "code",
   "execution_count": null,
   "metadata": {
    "id": "DSEtxKjqMeEi",
    "outputId": "1f5e7dea-2538-4030-db2f-fe98a0602315"
   },
   "outputs": [
    {
     "name": "stdout",
     "output_type": "stream",
     "text": [
      "Epoch 1/100\n",
      "469/469 [==============================] - 18s 17ms/step - loss: 0.4083 - accuracy: 0.7973 - val_loss: 0.2848 - val_accuracy: 0.8818\n",
      "Epoch 2/100\n",
      "469/469 [==============================] - 7s 16ms/step - loss: 0.2360 - accuracy: 0.9113 - val_loss: 0.2785 - val_accuracy: 0.8829\n",
      "Epoch 3/100\n",
      "469/469 [==============================] - 7s 16ms/step - loss: 0.1920 - accuracy: 0.9279 - val_loss: 0.3171 - val_accuracy: 0.8624\n",
      "Epoch 4/100\n",
      "469/469 [==============================] - 7s 16ms/step - loss: 0.1509 - accuracy: 0.9442 - val_loss: 0.2977 - val_accuracy: 0.8813\n",
      "Epoch 5/100\n",
      "469/469 [==============================] - 7s 16ms/step - loss: 0.1197 - accuracy: 0.9581 - val_loss: 0.3106 - val_accuracy: 0.8896\n",
      "782/782 [==============================] - 4s 6ms/step - loss: 0.3367 - accuracy: 0.8796\n",
      "\n",
      " Test Accuracy: 0.8796\n"
     ]
    }
   ],
   "source": [
    "# 모델의 실행 옵션을 정합니다.\n",
    "model.compile(loss='binary_crossentropy', optimizer='adam', metrics=['accuracy'])\n",
    "\n",
    "# 학습의 조기 중단을 설정합니다.\n",
    "early_stopping_callback = EarlyStopping(monitor='val_loss', patience=3)\n",
    "\n",
    "# 모델을 실행합니다.\n",
    "history = model.fit(X_train, y_train, batch_size=40, epochs=100, validation_split=0.25, callbacks=[early_stopping_callback])\n",
    "\n",
    "# 테스트 정확도를 출력합니다.\n",
    "print(\"\\n Test Accuracy: %.4f\" % (model.evaluate(X_test, y_test)[1]))"
   ]
  },
  {
   "cell_type": "code",
   "execution_count": null,
   "metadata": {
    "id": "MPI4hRamMeEj",
    "outputId": "89226bfa-55ec-4eb0-f9f8-f3dd9a943b66"
   },
   "outputs": [
    {
     "data": {
      "image/png": "[encoded data removed]",
      "text/plain": [
       "<Figure size 432x288 with 1 Axes>"
      ]
     },
     "metadata": {
      "needs_background": "light"
     },
     "output_type": "display_data"
    }
   ],
   "source": [
    "# 학습셋과 테스트셋의 오차를 저장합니다. \n",
    "y_vloss = history.history['val_loss']\n",
    "y_loss = history.history['loss']\n",
    "\n",
    "# 그래프로 표현해 보겠습니다.\n",
    "x_len = np.arange(len(y_loss))\n",
    "plt.plot(x_len, y_vloss, marker='.', c=\"red\", label='Testset_loss')\n",
    "plt.plot(x_len, y_loss, marker='.', c=\"blue\", label='Trainset_loss')\n",
    "\n",
    "# 그래프에 그리드를 주고 레이블을 표시하겠습니다. \n",
    "plt.legend(loc='upper right')\n",
    "plt.grid()\n",
    "plt.xlabel('epoch')\n",
    "plt.ylabel('loss')\n",
    "plt.show()"
   ]
  },
  {
   "cell_type": "markdown",
   "metadata": {
    "id": "fh7X-05sMeEk"
   },
   "source": [
    "## 3. Seq2Seq 모델과 어텐션"
   ]
  },
  {
   "cell_type": "code",
   "execution_count": null,
   "metadata": {
    "id": "bxyCnbT0MeEl",
    "outputId": "65cbe0a4-430d-4469-cb62-c895410b53ee"
   },
   "outputs": [
    {
     "name": "stdout",
     "output_type": "stream",
     "text": [
      "Epoch 1/100\n",
      "625/625 [==============================] - 32s 50ms/step - loss: 0.3872 - accuracy: 0.8211 - val_loss: 0.2915 - val_accuracy: 0.8784\n",
      "Epoch 2/100\n",
      "625/625 [==============================] - 31s 49ms/step - loss: 0.2312 - accuracy: 0.9070 - val_loss: 0.2688 - val_accuracy: 0.8873\n",
      "Epoch 3/100\n",
      "625/625 [==============================] - 30s 48ms/step - loss: 0.1700 - accuracy: 0.9363 - val_loss: 0.3014 - val_accuracy: 0.8866\n",
      "Epoch 4/100\n",
      "625/625 [==============================] - 30s 48ms/step - loss: 0.1210 - accuracy: 0.9534 - val_loss: 0.3148 - val_accuracy: 0.8840\n",
      "Epoch 5/100\n",
      "625/625 [==============================] - 31s 49ms/step - loss: 0.0872 - accuracy: 0.9676 - val_loss: 0.3980 - val_accuracy: 0.8808\n",
      "782/782 [==============================] - 12s 14ms/step - loss: 0.3980 - accuracy: 0.8808\n",
      "\n",
      " Test Accuracy: 0.8808\n"
     ]
    }
   ],
   "source": [
    "from tensorflow.keras.models import Model\n",
    "from tensorflow.keras.layers import Input, LSTM, Dense, Embedding\n",
    "from tensorflow.keras.preprocessing.sequence import pad_sequences\n",
    "from tensorflow.keras.utils import to_categorical\n",
    "import numpy as np\n",
    "import matplotlib.pyplot as plt\n",
    "\n",
    "# 예제용 데이터셋\n",
    "# 한국어 입력 (X_data)\n",
    "# \"오늘 날씨 어때\"   → [1, 2, 3]\n",
    "# \"오늘 주가 얼마\"   → [1, 4, 5]\n",
    "# \"날씨가 점점 따뜻해\" → [6, 7, 8]\n",
    "X_data = [\n",
    "    [1, 2, 3],\n",
    "    [1, 4, 5],\n",
    "    [6, 7, 8]\n",
    "]\n",
    "\n",
    "# 영어 출력 (Y_data)\n",
    "# \"It is warm\"  → [10, 20, 30]\n",
    "# \"It is high\"  → [10, 20, 50]\n",
    "# \"Getting warm\" → [60, 30]\n",
    "Y_data = [\n",
    "    [10, 20, 30],\n",
    "    [10, 20, 50],\n",
    "    [60, 30]\n",
    "]\n",
    "\n",
    "# 패딩\n",
    "X_train = pad_sequences(X_data, maxlen=5)  # 입력 시퀀스를 길이 5로 맞춤\n",
    "Y_train = pad_sequences(Y_data, maxlen=4)  # 출력 시퀀스를 길이 4로 맞춤\n",
    "\n",
    "# 입력 단어 집합 크기와 출력 단어 집합 크기 자동 설정\n",
    "# np.max(X_train)와 np.max(Y_train)을 통해 등장하는 단어의 최댓값(인덱스)를 구한 뒤, +1을 해준다.\n",
    "input_vocab_size = np.max(X_train) + 1\n",
    "output_vocab_size = np.max(Y_train) + 1\n",
    "\n",
    "# 원-핫 인코딩 (출력 데이터용)\n",
    "y_train = to_categorical(Y_train, num_classes=output_vocab_size)\n",
    "\n",
    "# 인코더 정의\n",
    "encoder_inputs = Input(shape=(5,))\n",
    "enc_emb = Embedding(input_dim=input_vocab_size, output_dim=64)(encoder_inputs)\n",
    "encoder_lstm = LSTM(128, return_state=True)\n",
    "encoder_outputs, state_h, state_c = encoder_lstm(enc_emb)\n",
    "\n",
    "# 디코더 정의\n",
    "decoder_inputs = Input(shape=(4,))\n",
    "dec_emb = Embedding(input_dim=output_vocab_size, output_dim=64)(decoder_inputs)\n",
    "decoder_lstm = LSTM(128, return_sequences=True, return_state=True)\n",
    "decoder_outputs, _, _ = decoder_lstm(dec_emb, initial_state=[state_h, state_c])\n",
    "decoder_dense = Dense(output_vocab_size, activation='softmax')\n",
    "decoder_outputs = decoder_dense(decoder_outputs)\n",
    "\n",
    "# 모델 구성\n",
    "model = Model([encoder_inputs, decoder_inputs], decoder_outputs)\n",
    "\n",
    "# 모델 컴파일\n",
    "model.compile(loss='categorical_crossentropy', optimizer='adam', metrics=['accuracy'])\n",
    "\n",
    "# 모델 학습\n",
    "history = model.fit([X_train, Y_train], y_train, batch_size=2, epochs=25, validation_split=0.2)\n",
    "\n",
    "# 학습 과정 시각화\n",
    "y_vloss = history.history['val_loss']\n",
    "y_loss = history.history['loss']\n",
    "x_len = np.arange(len(y_loss))\n",
    "plt.plot(x_len, y_vloss, marker='.', c=\"red\", label='Testset_loss')\n",
    "plt.plot(x_len, y_loss, marker='.', c=\"blue\", label='Trainset_loss')\n",
    "plt.legend(loc='upper right')\n",
    "plt.grid()\n",
    "plt.xlabel('epoch')\n",
    "plt.ylabel('loss')\n",
    "plt.show()\n"
   ]
  },
  {
   "cell_type": "code",
   "execution_count": null,
   "metadata": {
    "id": "OfPCePP4MeEl"
   },
   "outputs": [],
   "source": []
  }
 ],
 "metadata": {
  "colab": {
   "collapsed_sections": [],
   "name": "ch22-colab.ipynb",
   "provenance": []
  },
  "kernelspec": {
   "display_name": "Python 3 (ipykernel)",
   "language": "python",
   "name": "python3"
  },
  "language_info": {
   "codemirror_mode": {
    "name": "ipython",
    "version": 3
   },
   "file_extension": ".py",
   "mimetype": "text/x-python",
   "name": "python",
   "nbconvert_exporter": "python",
   "pygments_lexer": "ipython3",
   "version": "3.9.7"
  }
 },
 "nbformat": 4,
 "nbformat_minor": 1
}
