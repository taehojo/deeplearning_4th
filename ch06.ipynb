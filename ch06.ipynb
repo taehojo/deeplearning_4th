{
 "cells": [
  {
   "cell_type": "markdown",
   "id": "14f3d9bb",
   "metadata": {},
   "source": [
    "# 6장. 로지스틱 회귀 모델: 참 거짓 판단하기"
   ]
  },
  {
   "cell_type": "markdown",
   "id": "9ebeab00",
   "metadata": {},
   "source": [
    "[<img src=\"https://raw.githubusercontent.com/taehojo/taehojo.github.io/master/assets/images/linktocolab.png\" align=\"left\"/> ](https://colab.research.google.com/github/taehojo/deeplearning/blob/master/colab/ch06-colab.ipynb)"
   ]
  },
  {
   "cell_type": "markdown",
   "id": "31aa0af8",
   "metadata": {},
   "source": [
    "## 5. 텐서플로에서 실행하는 로지스틱 회귀 모델"
   ]
  },
  {
   "cell_type": "markdown",
   "id": "3bd0ceed",
   "metadata": {},
   "source": [
    "### 1.환경 준비"
   ]
  },
  {
   "cell_type": "code",
   "execution_count": 1,
   "id": "38ce6ac5",
   "metadata": {},
   "outputs": [],
   "source": [
    "import numpy as np\n",
    "import matplotlib.pyplot as plt\n",
    "from tensorflow.keras.models import Sequential\n",
    "from tensorflow.keras.layers import Dense"
   ]
  },
  {
   "cell_type": "markdown",
   "id": "00f9c412",
   "metadata": {},
   "source": [
    "### 2. 데이터 준비"
   ]
  },
  {
   "cell_type": "code",
   "execution_count": 2,
   "id": "92e915e0",
   "metadata": {},
   "outputs": [],
   "source": [
    "x = np.array([2, 4, 6, 8, 10, 12, 14])\n",
    "y = np.array([0, 0, 0, 1, 1, 1, 1]) "
   ]
  },
  {
   "cell_type": "markdown",
   "id": "605e6ad0",
   "metadata": {},
   "source": [
    "### 3. 모델 실행"
   ]
  },
  {
   "cell_type": "code",
   "execution_count": 6,
   "id": "f2735f67",
   "metadata": {},
   "outputs": [
    {
     "data": {
      "text/plain": [
       "<keras.callbacks.History at 0x24745193f40>"
      ]
     },
     "execution_count": 6,
     "metadata": {},
     "output_type": "execute_result"
    }
   ],
   "source": [
    "model = Sequential()\n",
    "model.add(Dense(1, input_dim=1, activation='sigmoid'))\n",
    "\n",
    "# 교차 엔트로피 오차 함수를 이용하기 위하여 'binary_crossentropy'로 설정합니다. \n",
    "model.compile(optimizer='sgd' ,loss='binary_crossentropy')\n",
    "\n",
    "model.fit(x, y, epochs=1500, verbose=0) #verbose=1 진행 화면 출력, verbose=0 진행 화면 출력 안함."
   ]
  },
  {
   "cell_type": "markdown",
   "id": "514ecfcd",
   "metadata": {},
   "source": [
    "### 4. 모델 테스트"
   ]
  },
  {
   "cell_type": "code",
   "execution_count": 7,
   "id": "669c2350",
   "metadata": {},
   "outputs": [
    {
     "data": {
      "image/png": "[encoded data removed]",
      "text/plain": [
       "<Figure size 432x288 with 1 Axes>"
      ]
     },
     "metadata": {
      "needs_background": "light"
     },
     "output_type": "display_data"
    }
   ],
   "source": [
    "#그래프로 확인해 봅니다.\n",
    "\n",
    "plt.scatter(x, y)\n",
    "plt.plot(x, model.predict(x),'r')\n",
    "plt.show()"
   ]
  },
  {
   "cell_type": "code",
   "execution_count": 8,
   "id": "e4b6209f",
   "metadata": {},
   "outputs": [
    {
     "name": "stdout",
     "output_type": "stream",
     "text": [
      "7시간을 공부할 경우, 합격 예상 확률은 64.6%입니다\n"
     ]
    }
   ],
   "source": [
    "import tensorflow as tf\n",
    "\n",
    "# 임의의 학습 시간을 집어넣어 합격 예상 확률을 예측해 보겠습니다.\n",
    "\n",
    "hour = 7\n",
    "#prediction = model.predict([hour]) #텐서플로 2.9.0 까지만 가능\n",
    "\n",
    "input_data = tf.constant([[hour]]) \n",
    "prediction = model.predict(input_data)[0][0]  \n",
    "\n",
    "\n",
    "print(\"%.f시간을 공부할 경우, 합격 예상 확률은 %.01f%%입니다\" % (hour, prediction * 100))"
   ]
  },
  {
   "cell_type": "code",
   "execution_count": null,
   "id": "bcffd088",
   "metadata": {},
   "outputs": [],
   "source": []
  },
  {
   "cell_type": "code",
   "execution_count": null,
   "id": "4dc48b68",
   "metadata": {},
   "outputs": [],
   "source": []
  }
 ],
 "metadata": {
  "kernelspec": {
   "display_name": "Python 3 (ipykernel)",
   "language": "python",
   "name": "python3"
  },
  "language_info": {
   "codemirror_mode": {
    "name": "ipython",
    "version": 3
   },
   "file_extension": ".py",
   "mimetype": "text/x-python",
   "name": "python",
   "nbconvert_exporter": "python",
   "pygments_lexer": "ipython3",
   "version": "3.9.7"
  }
 },
 "nbformat": 4,
 "nbformat_minor": 5
}
